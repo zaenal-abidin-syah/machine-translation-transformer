{
  "cells": [
    {
      "cell_type": "code",
      "execution_count": 1,
      "id": "321fd634-3a3b-4c8a-a90b-25e57c17eba7",
      "metadata": {
        "id": "321fd634-3a3b-4c8a-a90b-25e57c17eba7"
      },
      "outputs": [],
      "source": [
        "import torch\n",
        "import torch.nn as nn\n",
        "import torch.optim as optim\n",
        "from torch.utils.data import DataLoader, Dataset, random_split\n",
        "import math\n",
        "import warnings"
      ]
    },
    {
      "cell_type": "markdown",
      "id": "c16c51f4-f00f-4bbe-9744-161064b8bd9f",
      "metadata": {
        "id": "c16c51f4-f00f-4bbe-9744-161064b8bd9f"
      },
      "source": [
        "# Train"
      ]
    },
    {
      "cell_type": "code",
      "execution_count": 2,
      "id": "c72597bb",
      "metadata": {},
      "outputs": [],
      "source": [
        "from config import get_config, get_weights_file_path\n",
        "from train import train_model, get_ds, get_model, run_validation, majority_vote"
      ]
    },
    {
      "cell_type": "code",
      "execution_count": 3,
      "id": "3d616e51",
      "metadata": {
        "colab": {
          "base_uri": "https://localhost:8080/",
          "height": 495
        },
        "id": "3d616e51",
        "outputId": "2aba03a5-f8e6-4631-dc48-be8cbcff53f3"
      },
      "outputs": [
        {
          "name": "stdout",
          "output_type": "stream",
          "text": [
            "path tokenizer :  /home/zaens/Codes/Skripsi/Codes/Machine Translation Majority vote ensemble/tokenizer_indonesian.json\n",
            "tokenizer file ada\n",
            "path tokenizer :  /home/zaens/Codes/Skripsi/Codes/Machine Translation Majority vote ensemble/tokenizer_english.json\n",
            "tokenizer file ada\n",
            "path tokenizer :  /home/zaens/Codes/Skripsi/Codes/Machine Translation Majority vote ensemble/tokenizer_indonesian.json\n",
            "tokenizer file ada\n",
            "path tokenizer :  /home/zaens/Codes/Skripsi/Codes/Machine Translation Majority vote ensemble/tokenizer_english.json\n",
            "tokenizer file ada\n",
            "max length of source sentence 34\n",
            "max length of target sentence 34\n",
            "using device :  cuda\n",
            "Preloading model weights/model_1/tmodel_99.pt\n"
          ]
        },
        {
          "name": "stderr",
          "output_type": "stream",
          "text": [
            "Processing  epoch 100: 100%|██████████| 245/245 [00:19<00:00, 12.54it/s, Loss=1.691]\n"
          ]
        },
        {
          "name": "stdout",
          "output_type": "stream",
          "text": [
            "--------------------------------------------------------------------------------\n",
            "Source: di bawah rencana yang diumumkan pada hari rabu di washington gm akan menyediakan pabrik dow dengan truk yang berisi peralatan konversi sel bahan bakar\n",
            "Target: under the plan being announced wednesday in washington gm will provide dow manufacturing plants with trucks containing fuel cell conversion equipment\n",
            "Predicted: under the plan being announced wednesday in washington gm will provide dow manufacturing plants with trucks containing fuel cell conversion equipment\n",
            "--------------------------------------------------------------------------------\n",
            "Source: puretunes juga telah kehilangan kesepakatan distribusi dengan perusahaan perangkat lunak swapping grokster populer\n",
            "Target: puretunes has also lost a distribution deal with the popular grokster fileswapping software company\n",
            "Predicted: puretunes has also lost a distribution deal with the popular grokster software company\n"
          ]
        },
        {
          "name": "stderr",
          "output_type": "stream",
          "text": [
            "Processing  epoch 101: 100%|██████████| 245/245 [00:18<00:00, 13.21it/s, Loss=1.814]\n"
          ]
        },
        {
          "name": "stdout",
          "output_type": "stream",
          "text": [
            "--------------------------------------------------------------------------------\n",
            "Source: di bawah rencana yang diumumkan pada hari rabu di washington gm akan menyediakan pabrik dow dengan truk yang berisi peralatan konversi sel bahan bakar\n",
            "Target: under the plan being announced wednesday in washington gm will provide dow manufacturing plants with trucks containing fuel cell conversion equipment\n",
            "Predicted: under the plan being announced wednesday in washington gm will provide dow manufacturing plants with trucks containing fuel cell conversion equipment\n",
            "--------------------------------------------------------------------------------\n",
            "Source: puretunes juga telah kehilangan kesepakatan distribusi dengan perusahaan perangkat lunak swapping grokster populer\n",
            "Target: puretunes has also lost a distribution deal with the popular grokster fileswapping software company\n",
            "Predicted: puretunes has also lost a distribution deal with the popular grokster software company\n"
          ]
        },
        {
          "name": "stderr",
          "output_type": "stream",
          "text": [
            "Processing  epoch 102: 100%|██████████| 245/245 [00:18<00:00, 13.18it/s, Loss=1.716]\n"
          ]
        },
        {
          "name": "stdout",
          "output_type": "stream",
          "text": [
            "--------------------------------------------------------------------------------\n",
            "Source: di bawah rencana yang diumumkan pada hari rabu di washington gm akan menyediakan pabrik dow dengan truk yang berisi peralatan konversi sel bahan bakar\n",
            "Target: under the plan being announced wednesday in washington gm will provide dow manufacturing plants with trucks containing fuel cell conversion equipment\n",
            "Predicted: under the plan wednesday on washington gm will take to provide dow manufacturing plants with trucks containing fuel cell conversion equipment\n",
            "--------------------------------------------------------------------------------\n",
            "Source: puretunes juga telah kehilangan kesepakatan distribusi dengan perusahaan perangkat lunak swapping grokster populer\n",
            "Target: puretunes has also lost a distribution deal with the popular grokster fileswapping software company\n",
            "Predicted: puretunes has also lost a distribution deal with the popular grokster software company\n"
          ]
        },
        {
          "name": "stderr",
          "output_type": "stream",
          "text": [
            "Processing  epoch 103: 100%|██████████| 245/245 [00:18<00:00, 13.18it/s, Loss=1.757]\n"
          ]
        },
        {
          "name": "stdout",
          "output_type": "stream",
          "text": [
            "--------------------------------------------------------------------------------\n",
            "Source: di bawah rencana yang diumumkan pada hari rabu di washington gm akan menyediakan pabrik dow dengan truk yang berisi peralatan konversi sel bahan bakar\n",
            "Target: under the plan being announced wednesday in washington gm will provide dow manufacturing plants with trucks containing fuel cell conversion equipment\n",
            "Predicted: under the plan being announced wednesday in washington gm will provide dow manufacturing plants with trucks containing fuel cell conversion equipment\n",
            "--------------------------------------------------------------------------------\n",
            "Source: puretunes juga telah kehilangan kesepakatan distribusi dengan perusahaan perangkat lunak swapping grokster populer\n",
            "Target: puretunes has also lost a distribution deal with the popular grokster fileswapping software company\n",
            "Predicted: puretunes has also lost a distribution deal with the popular grokster software company\n"
          ]
        },
        {
          "name": "stderr",
          "output_type": "stream",
          "text": [
            "Processing  epoch 104: 100%|██████████| 245/245 [00:18<00:00, 13.26it/s, Loss=1.790]\n"
          ]
        },
        {
          "name": "stdout",
          "output_type": "stream",
          "text": [
            "--------------------------------------------------------------------------------\n",
            "Source: di bawah rencana yang diumumkan pada hari rabu di washington gm akan menyediakan pabrik dow dengan truk yang berisi peralatan konversi sel bahan bakar\n",
            "Target: under the plan being announced wednesday in washington gm will provide dow manufacturing plants with trucks containing fuel cell conversion equipment\n",
            "Predicted: under the plan wednesday on washington gm will take to provide dow manufacturing plants with trucks containing fuel cell conversion equipment\n",
            "--------------------------------------------------------------------------------\n",
            "Source: puretunes juga telah kehilangan kesepakatan distribusi dengan perusahaan perangkat lunak swapping grokster populer\n",
            "Target: puretunes has also lost a distribution deal with the popular grokster fileswapping software company\n",
            "Predicted: puretunes has also lost a distribution deal with the popular grokster software company\n"
          ]
        },
        {
          "name": "stderr",
          "output_type": "stream",
          "text": [
            "Processing  epoch 105: 100%|██████████| 245/245 [00:18<00:00, 12.94it/s, Loss=1.673]\n"
          ]
        },
        {
          "name": "stdout",
          "output_type": "stream",
          "text": [
            "--------------------------------------------------------------------------------\n",
            "Source: di bawah rencana yang diumumkan pada hari rabu di washington gm akan menyediakan pabrik dow dengan truk yang berisi peralatan konversi sel bahan bakar\n",
            "Target: under the plan being announced wednesday in washington gm will provide dow manufacturing plants with trucks containing fuel cell conversion equipment\n",
            "Predicted: under the plan wednesday on washington gm will take to provide dow manufacturing plants with trucks containing fuel cell conversion equipment\n",
            "--------------------------------------------------------------------------------\n",
            "Source: puretunes juga telah kehilangan kesepakatan distribusi dengan perusahaan perangkat lunak swapping grokster populer\n",
            "Target: puretunes has also lost a distribution deal with the popular grokster fileswapping software company\n",
            "Predicted: puretunes has also lost a distribution deal with the popular grokster software company\n"
          ]
        },
        {
          "name": "stderr",
          "output_type": "stream",
          "text": [
            "Processing  epoch 106: 100%|██████████| 245/245 [00:19<00:00, 12.83it/s, Loss=1.695]\n"
          ]
        },
        {
          "name": "stdout",
          "output_type": "stream",
          "text": [
            "--------------------------------------------------------------------------------\n",
            "Source: di bawah rencana yang diumumkan pada hari rabu di washington gm akan menyediakan pabrik dow dengan truk yang berisi peralatan konversi sel bahan bakar\n",
            "Target: under the plan being announced wednesday in washington gm will provide dow manufacturing plants with trucks containing fuel cell conversion equipment\n",
            "Predicted: under the plan being announced wednesday in washington gm will provide dow manufacturing plants with trucks containing fuel cell conversion equipment\n",
            "--------------------------------------------------------------------------------\n",
            "Source: puretunes juga telah kehilangan kesepakatan distribusi dengan perusahaan perangkat lunak swapping grokster populer\n",
            "Target: puretunes has also lost a distribution deal with the popular grokster fileswapping software company\n",
            "Predicted: puretunes has also lost a distribution deal with the popular grokster software company\n"
          ]
        },
        {
          "name": "stderr",
          "output_type": "stream",
          "text": [
            "Processing  epoch 107: 100%|██████████| 245/245 [00:18<00:00, 13.36it/s, Loss=1.629]\n"
          ]
        },
        {
          "name": "stdout",
          "output_type": "stream",
          "text": [
            "--------------------------------------------------------------------------------\n",
            "Source: di bawah rencana yang diumumkan pada hari rabu di washington gm akan menyediakan pabrik dow dengan truk yang berisi peralatan konversi sel bahan bakar\n",
            "Target: under the plan being announced wednesday in washington gm will provide dow manufacturing plants with trucks containing fuel cell conversion equipment\n",
            "Predicted: under the plan being announced wednesday in washington gm will provide dow manufacturing plants with trucks containing fuel cell conversion equipment\n",
            "--------------------------------------------------------------------------------\n",
            "Source: puretunes juga telah kehilangan kesepakatan distribusi dengan perusahaan perangkat lunak swapping grokster populer\n",
            "Target: puretunes has also lost a distribution deal with the popular grokster fileswapping software company\n",
            "Predicted: puretunes has also lost a distribution deal with the popular grokster software company\n"
          ]
        },
        {
          "name": "stderr",
          "output_type": "stream",
          "text": [
            "Processing  epoch 108: 100%|██████████| 245/245 [00:18<00:00, 13.39it/s, Loss=1.689]\n"
          ]
        },
        {
          "name": "stdout",
          "output_type": "stream",
          "text": [
            "--------------------------------------------------------------------------------\n",
            "Source: di bawah rencana yang diumumkan pada hari rabu di washington gm akan menyediakan pabrik dow dengan truk yang berisi peralatan konversi sel bahan bakar\n",
            "Target: under the plan being announced wednesday in washington gm will provide dow manufacturing plants with trucks containing fuel cell conversion equipment\n",
            "Predicted: under the plan being announced wednesday in washington gm will provide dow manufacturing plants with trucks containing fuel cell conversion equipment\n",
            "--------------------------------------------------------------------------------\n",
            "Source: puretunes juga telah kehilangan kesepakatan distribusi dengan perusahaan perangkat lunak swapping grokster populer\n",
            "Target: puretunes has also lost a distribution deal with the popular grokster fileswapping software company\n",
            "Predicted: puretunes has also lost a distribution deal with the popular grokster software company\n"
          ]
        },
        {
          "name": "stderr",
          "output_type": "stream",
          "text": [
            "Processing  epoch 109: 100%|██████████| 245/245 [00:17<00:00, 13.64it/s, Loss=1.674]\n"
          ]
        },
        {
          "name": "stdout",
          "output_type": "stream",
          "text": [
            "--------------------------------------------------------------------------------\n",
            "Source: di bawah rencana yang diumumkan pada hari rabu di washington gm akan menyediakan pabrik dow dengan truk yang berisi peralatan konversi sel bahan bakar\n",
            "Target: under the plan being announced wednesday in washington gm will provide dow manufacturing plants with trucks containing fuel cell conversion equipment\n",
            "Predicted: under the plan wednesday on washington gm will take to provide dow manufacturing plants with trucks containing fuel cell conversion equipment\n",
            "--------------------------------------------------------------------------------\n",
            "Source: puretunes juga telah kehilangan kesepakatan distribusi dengan perusahaan perangkat lunak swapping grokster populer\n",
            "Target: puretunes has also lost a distribution deal with the popular grokster fileswapping software company\n",
            "Predicted: puretunes has also lost a distribution deal with the popular grokster software company\n"
          ]
        },
        {
          "name": "stderr",
          "output_type": "stream",
          "text": [
            "Processing  epoch 110: 100%|██████████| 245/245 [00:18<00:00, 13.15it/s, Loss=1.727]\n"
          ]
        },
        {
          "name": "stdout",
          "output_type": "stream",
          "text": [
            "--------------------------------------------------------------------------------\n",
            "Source: di bawah rencana yang diumumkan pada hari rabu di washington gm akan menyediakan pabrik dow dengan truk yang berisi peralatan konversi sel bahan bakar\n",
            "Target: under the plan being announced wednesday in washington gm will provide dow manufacturing plants with trucks containing fuel cell conversion equipment\n",
            "Predicted: under the plan being announced wednesday in washington gm will provide dow manufacturing plants with trucks containing fuel cell conversion equipment\n",
            "--------------------------------------------------------------------------------\n",
            "Source: puretunes juga telah kehilangan kesepakatan distribusi dengan perusahaan perangkat lunak swapping grokster populer\n",
            "Target: puretunes has also lost a distribution deal with the popular grokster fileswapping software company\n",
            "Predicted: puretunes has also lost a distribution deal with the popular grokster software company\n"
          ]
        },
        {
          "name": "stderr",
          "output_type": "stream",
          "text": [
            "Processing  epoch 111: 100%|██████████| 245/245 [00:19<00:00, 12.83it/s, Loss=1.635]\n"
          ]
        },
        {
          "name": "stdout",
          "output_type": "stream",
          "text": [
            "--------------------------------------------------------------------------------\n",
            "Source: di bawah rencana yang diumumkan pada hari rabu di washington gm akan menyediakan pabrik dow dengan truk yang berisi peralatan konversi sel bahan bakar\n",
            "Target: under the plan being announced wednesday in washington gm will provide dow manufacturing plants with trucks containing fuel cell conversion equipment\n",
            "Predicted: under the plan being announced wednesday in washington gm will provide dow manufacturing plants with trucks containing fuel cell conversion equipment\n",
            "--------------------------------------------------------------------------------\n",
            "Source: puretunes juga telah kehilangan kesepakatan distribusi dengan perusahaan perangkat lunak swapping grokster populer\n",
            "Target: puretunes has also lost a distribution deal with the popular grokster fileswapping software company\n",
            "Predicted: puretunes has also lost a distribution deal with the popular grokster software company\n"
          ]
        },
        {
          "name": "stderr",
          "output_type": "stream",
          "text": [
            "Processing  epoch 112: 100%|██████████| 245/245 [00:19<00:00, 12.85it/s, Loss=1.683]\n"
          ]
        },
        {
          "name": "stdout",
          "output_type": "stream",
          "text": [
            "--------------------------------------------------------------------------------\n",
            "Source: di bawah rencana yang diumumkan pada hari rabu di washington gm akan menyediakan pabrik dow dengan truk yang berisi peralatan konversi sel bahan bakar\n",
            "Target: under the plan being announced wednesday in washington gm will provide dow manufacturing plants with trucks containing fuel cell conversion equipment\n",
            "Predicted: under the plan wednesday on washington gm will take to provide dow manufacturing plants with trucks containing fuel cell conversion equipment\n",
            "--------------------------------------------------------------------------------\n",
            "Source: puretunes juga telah kehilangan kesepakatan distribusi dengan perusahaan perangkat lunak swapping grokster populer\n",
            "Target: puretunes has also lost a distribution deal with the popular grokster fileswapping software company\n",
            "Predicted: puretunes has also lost a distribution deal with the popular grokster software company\n"
          ]
        },
        {
          "name": "stderr",
          "output_type": "stream",
          "text": [
            "Processing  epoch 113: 100%|██████████| 245/245 [00:18<00:00, 13.24it/s, Loss=1.616]\n"
          ]
        },
        {
          "name": "stdout",
          "output_type": "stream",
          "text": [
            "--------------------------------------------------------------------------------\n",
            "Source: di bawah rencana yang diumumkan pada hari rabu di washington gm akan menyediakan pabrik dow dengan truk yang berisi peralatan konversi sel bahan bakar\n",
            "Target: under the plan being announced wednesday in washington gm will provide dow manufacturing plants with trucks containing fuel cell conversion equipment\n",
            "Predicted: under the plan wednesday on washington gm will take to provide dow manufacturing plants with trucks containing fuel cell conversion equipment\n",
            "--------------------------------------------------------------------------------\n",
            "Source: puretunes juga telah kehilangan kesepakatan distribusi dengan perusahaan perangkat lunak swapping grokster populer\n",
            "Target: puretunes has also lost a distribution deal with the popular grokster fileswapping software company\n",
            "Predicted: puretunes has also lost a distribution deal with the popular grokster software company\n"
          ]
        },
        {
          "name": "stderr",
          "output_type": "stream",
          "text": [
            "Processing  epoch 114: 100%|██████████| 245/245 [00:18<00:00, 13.18it/s, Loss=1.656]\n"
          ]
        },
        {
          "name": "stdout",
          "output_type": "stream",
          "text": [
            "--------------------------------------------------------------------------------\n",
            "Source: di bawah rencana yang diumumkan pada hari rabu di washington gm akan menyediakan pabrik dow dengan truk yang berisi peralatan konversi sel bahan bakar\n",
            "Target: under the plan being announced wednesday in washington gm will provide dow manufacturing plants with trucks containing fuel cell conversion equipment\n",
            "Predicted: under the plan wednesday on washington gm will take to provide dow manufacturing plants with trucks containing fuel cell conversion equipment\n",
            "--------------------------------------------------------------------------------\n",
            "Source: puretunes juga telah kehilangan kesepakatan distribusi dengan perusahaan perangkat lunak swapping grokster populer\n",
            "Target: puretunes has also lost a distribution deal with the popular grokster fileswapping software company\n",
            "Predicted: puretunes has also lost a distribution deal with the popular grokster software company\n"
          ]
        },
        {
          "name": "stderr",
          "output_type": "stream",
          "text": [
            "Processing  epoch 115: 100%|██████████| 245/245 [00:18<00:00, 13.14it/s, Loss=1.596]\n"
          ]
        },
        {
          "name": "stdout",
          "output_type": "stream",
          "text": [
            "--------------------------------------------------------------------------------\n",
            "Source: di bawah rencana yang diumumkan pada hari rabu di washington gm akan menyediakan pabrik dow dengan truk yang berisi peralatan konversi sel bahan bakar\n",
            "Target: under the plan being announced wednesday in washington gm will provide dow manufacturing plants with trucks containing fuel cell conversion equipment\n",
            "Predicted: under the plan wednesday on washington gm will take to provide dow manufacturing plants with trucks containing fuel cell conversion equipment\n",
            "--------------------------------------------------------------------------------\n",
            "Source: puretunes juga telah kehilangan kesepakatan distribusi dengan perusahaan perangkat lunak swapping grokster populer\n",
            "Target: puretunes has also lost a distribution deal with the popular grokster fileswapping software company\n",
            "Predicted: puretunes has also lost a distribution deal with the popular distribution company software company\n"
          ]
        },
        {
          "name": "stderr",
          "output_type": "stream",
          "text": [
            "Processing  epoch 116: 100%|██████████| 245/245 [00:18<00:00, 13.09it/s, Loss=1.639]\n"
          ]
        },
        {
          "name": "stdout",
          "output_type": "stream",
          "text": [
            "--------------------------------------------------------------------------------\n",
            "Source: di bawah rencana yang diumumkan pada hari rabu di washington gm akan menyediakan pabrik dow dengan truk yang berisi peralatan konversi sel bahan bakar\n",
            "Target: under the plan being announced wednesday in washington gm will provide dow manufacturing plants with trucks containing fuel cell conversion equipment\n",
            "Predicted: under the plan being announced wednesday in washington gm will provide dow manufacturing plants with trucks containing fuel cell conversion equipment\n",
            "--------------------------------------------------------------------------------\n",
            "Source: puretunes juga telah kehilangan kesepakatan distribusi dengan perusahaan perangkat lunak swapping grokster populer\n",
            "Target: puretunes has also lost a distribution deal with the popular grokster fileswapping software company\n",
            "Predicted: puretunes has also lost a distribution deal with the popular distribution company software company\n"
          ]
        },
        {
          "name": "stderr",
          "output_type": "stream",
          "text": [
            "Processing  epoch 117: 100%|██████████| 245/245 [00:18<00:00, 13.13it/s, Loss=1.621]\n"
          ]
        },
        {
          "name": "stdout",
          "output_type": "stream",
          "text": [
            "--------------------------------------------------------------------------------\n",
            "Source: di bawah rencana yang diumumkan pada hari rabu di washington gm akan menyediakan pabrik dow dengan truk yang berisi peralatan konversi sel bahan bakar\n",
            "Target: under the plan being announced wednesday in washington gm will provide dow manufacturing plants with trucks containing fuel cell conversion equipment\n",
            "Predicted: under the plan being announced wednesday in washington gm will provide dow manufacturing plants with trucks containing fuel cell conversion equipment\n",
            "--------------------------------------------------------------------------------\n",
            "Source: puretunes juga telah kehilangan kesepakatan distribusi dengan perusahaan perangkat lunak swapping grokster populer\n",
            "Target: puretunes has also lost a distribution deal with the popular grokster fileswapping software company\n",
            "Predicted: puretunes has also lost a distribution deal with the popular grokster software company\n"
          ]
        },
        {
          "name": "stderr",
          "output_type": "stream",
          "text": [
            "Processing  epoch 118: 100%|██████████| 245/245 [00:18<00:00, 13.10it/s, Loss=1.598]\n"
          ]
        },
        {
          "name": "stdout",
          "output_type": "stream",
          "text": [
            "--------------------------------------------------------------------------------\n",
            "Source: di bawah rencana yang diumumkan pada hari rabu di washington gm akan menyediakan pabrik dow dengan truk yang berisi peralatan konversi sel bahan bakar\n",
            "Target: under the plan being announced wednesday in washington gm will provide dow manufacturing plants with trucks containing fuel cell conversion equipment\n",
            "Predicted: under the plan being announced wednesday in washington gm will provide dow manufacturing plants with trucks containing fuel cell conversion equipment\n",
            "--------------------------------------------------------------------------------\n",
            "Source: puretunes juga telah kehilangan kesepakatan distribusi dengan perusahaan perangkat lunak swapping grokster populer\n",
            "Target: puretunes has also lost a distribution deal with the popular grokster fileswapping software company\n",
            "Predicted: puretunes has also lost a distribution deal with the popular grokster software company\n"
          ]
        },
        {
          "name": "stderr",
          "output_type": "stream",
          "text": [
            "Processing  epoch 119: 100%|██████████| 245/245 [00:18<00:00, 13.16it/s, Loss=1.641]\n"
          ]
        },
        {
          "name": "stdout",
          "output_type": "stream",
          "text": [
            "--------------------------------------------------------------------------------\n",
            "Source: di bawah rencana yang diumumkan pada hari rabu di washington gm akan menyediakan pabrik dow dengan truk yang berisi peralatan konversi sel bahan bakar\n",
            "Target: under the plan being announced wednesday in washington gm will provide dow manufacturing plants with trucks containing fuel cell conversion equipment\n",
            "Predicted: under the plan being announced wednesday in washington gm will provide dow manufacturing plants with trucks containing fuel cell conversion equipment\n",
            "--------------------------------------------------------------------------------\n",
            "Source: puretunes juga telah kehilangan kesepakatan distribusi dengan perusahaan perangkat lunak swapping grokster populer\n",
            "Target: puretunes has also lost a distribution deal with the popular grokster fileswapping software company\n",
            "Predicted: puretunes has also lost a distribution deal with the popular grokster software company\n"
          ]
        },
        {
          "name": "stderr",
          "output_type": "stream",
          "text": [
            "Processing  epoch 120: 100%|██████████| 245/245 [00:18<00:00, 13.11it/s, Loss=1.604]\n"
          ]
        },
        {
          "name": "stdout",
          "output_type": "stream",
          "text": [
            "--------------------------------------------------------------------------------\n",
            "Source: di bawah rencana yang diumumkan pada hari rabu di washington gm akan menyediakan pabrik dow dengan truk yang berisi peralatan konversi sel bahan bakar\n",
            "Target: under the plan being announced wednesday in washington gm will provide dow manufacturing plants with trucks containing fuel cell conversion equipment\n",
            "Predicted: under the plan being announced wednesday in washington gm will provide dow manufacturing plants with trucks containing fuel cell conversion equipment\n",
            "--------------------------------------------------------------------------------\n",
            "Source: puretunes juga telah kehilangan kesepakatan distribusi dengan perusahaan perangkat lunak swapping grokster populer\n",
            "Target: puretunes has also lost a distribution deal with the popular grokster fileswapping software company\n",
            "Predicted: puretunes has also lost a distribution deal with the popular grokster software company\n"
          ]
        },
        {
          "name": "stderr",
          "output_type": "stream",
          "text": [
            "Processing  epoch 121: 100%|██████████| 245/245 [00:18<00:00, 13.11it/s, Loss=1.601]\n"
          ]
        },
        {
          "name": "stdout",
          "output_type": "stream",
          "text": [
            "--------------------------------------------------------------------------------\n",
            "Source: di bawah rencana yang diumumkan pada hari rabu di washington gm akan menyediakan pabrik dow dengan truk yang berisi peralatan konversi sel bahan bakar\n",
            "Target: under the plan being announced wednesday in washington gm will provide dow manufacturing plants with trucks containing fuel cell conversion equipment\n",
            "Predicted: under the plan being announced wednesday in washington gm will provide dow manufacturing plants with trucks containing fuel cell conversion equipment\n",
            "--------------------------------------------------------------------------------\n",
            "Source: puretunes juga telah kehilangan kesepakatan distribusi dengan perusahaan perangkat lunak swapping grokster populer\n",
            "Target: puretunes has also lost a distribution deal with the popular grokster fileswapping software company\n",
            "Predicted: puretunes has also lost a distribution deal with the popular distribution company software company\n"
          ]
        },
        {
          "name": "stderr",
          "output_type": "stream",
          "text": [
            "Processing  epoch 122: 100%|██████████| 245/245 [00:18<00:00, 13.10it/s, Loss=1.580]\n"
          ]
        },
        {
          "name": "stdout",
          "output_type": "stream",
          "text": [
            "--------------------------------------------------------------------------------\n",
            "Source: di bawah rencana yang diumumkan pada hari rabu di washington gm akan menyediakan pabrik dow dengan truk yang berisi peralatan konversi sel bahan bakar\n",
            "Target: under the plan being announced wednesday in washington gm will provide dow manufacturing plants with trucks containing fuel cell conversion equipment\n",
            "Predicted: under the plan being announced wednesday in washington gm will provide dow manufacturing plants with trucks containing fuel cell conversion equipment\n",
            "--------------------------------------------------------------------------------\n",
            "Source: puretunes juga telah kehilangan kesepakatan distribusi dengan perusahaan perangkat lunak swapping grokster populer\n",
            "Target: puretunes has also lost a distribution deal with the popular grokster fileswapping software company\n",
            "Predicted: puretunes has also lost a distribution deal with the popular distribution company software company\n"
          ]
        },
        {
          "name": "stderr",
          "output_type": "stream",
          "text": [
            "Processing  epoch 123: 100%|██████████| 245/245 [00:18<00:00, 13.20it/s, Loss=1.604]\n"
          ]
        },
        {
          "name": "stdout",
          "output_type": "stream",
          "text": [
            "--------------------------------------------------------------------------------\n",
            "Source: di bawah rencana yang diumumkan pada hari rabu di washington gm akan menyediakan pabrik dow dengan truk yang berisi peralatan konversi sel bahan bakar\n",
            "Target: under the plan being announced wednesday in washington gm will provide dow manufacturing plants with trucks containing fuel cell conversion equipment\n",
            "Predicted: under the plan being announced wednesday in washington gm will provide dow manufacturing plants with trucks containing fuel cell conversion equipment\n",
            "--------------------------------------------------------------------------------\n",
            "Source: puretunes juga telah kehilangan kesepakatan distribusi dengan perusahaan perangkat lunak swapping grokster populer\n",
            "Target: puretunes has also lost a distribution deal with the popular grokster fileswapping software company\n",
            "Predicted: puretunes has also lost a distribution deal with the popular grokster software company\n"
          ]
        },
        {
          "name": "stderr",
          "output_type": "stream",
          "text": [
            "Processing  epoch 124: 100%|██████████| 245/245 [00:18<00:00, 13.19it/s, Loss=1.585]\n"
          ]
        },
        {
          "name": "stdout",
          "output_type": "stream",
          "text": [
            "--------------------------------------------------------------------------------\n",
            "Source: di bawah rencana yang diumumkan pada hari rabu di washington gm akan menyediakan pabrik dow dengan truk yang berisi peralatan konversi sel bahan bakar\n",
            "Target: under the plan being announced wednesday in washington gm will provide dow manufacturing plants with trucks containing fuel cell conversion equipment\n",
            "Predicted: under the plan being announced wednesday in washington gm will provide dow manufacturing plants with trucks containing fuel cell conversion equipment\n",
            "--------------------------------------------------------------------------------\n",
            "Source: puretunes juga telah kehilangan kesepakatan distribusi dengan perusahaan perangkat lunak swapping grokster populer\n",
            "Target: puretunes has also lost a distribution deal with the popular grokster fileswapping software company\n",
            "Predicted: puretunes has also lost a distribution deal with the popular computer business software company\n"
          ]
        },
        {
          "name": "stderr",
          "output_type": "stream",
          "text": [
            "Processing  epoch 125: 100%|██████████| 245/245 [00:18<00:00, 13.14it/s, Loss=1.614]\n"
          ]
        },
        {
          "name": "stdout",
          "output_type": "stream",
          "text": [
            "--------------------------------------------------------------------------------\n",
            "Source: di bawah rencana yang diumumkan pada hari rabu di washington gm akan menyediakan pabrik dow dengan truk yang berisi peralatan konversi sel bahan bakar\n",
            "Target: under the plan being announced wednesday in washington gm will provide dow manufacturing plants with trucks containing fuel cell conversion equipment\n",
            "Predicted: under the plan being announced wednesday in washington gm will provide dow manufacturing plants with trucks containing fuel cell conversion equipment\n",
            "--------------------------------------------------------------------------------\n",
            "Source: puretunes juga telah kehilangan kesepakatan distribusi dengan perusahaan perangkat lunak swapping grokster populer\n",
            "Target: puretunes has also lost a distribution deal with the popular grokster fileswapping software company\n",
            "Predicted: puretunes has also lost a distribution deal with the popular computer business software company\n"
          ]
        },
        {
          "name": "stderr",
          "output_type": "stream",
          "text": [
            "Processing  epoch 126: 100%|██████████| 245/245 [00:18<00:00, 13.19it/s, Loss=1.599]\n"
          ]
        },
        {
          "name": "stdout",
          "output_type": "stream",
          "text": [
            "--------------------------------------------------------------------------------\n",
            "Source: di bawah rencana yang diumumkan pada hari rabu di washington gm akan menyediakan pabrik dow dengan truk yang berisi peralatan konversi sel bahan bakar\n",
            "Target: under the plan being announced wednesday in washington gm will provide dow manufacturing plants with trucks containing fuel cell conversion equipment\n",
            "Predicted: under the plan being announced wednesday in washington gm will provide dow manufacturing plants with trucks containing fuel cell conversion equipment\n",
            "--------------------------------------------------------------------------------\n",
            "Source: puretunes juga telah kehilangan kesepakatan distribusi dengan perusahaan perangkat lunak swapping grokster populer\n",
            "Target: puretunes has also lost a distribution deal with the popular grokster fileswapping software company\n",
            "Predicted: puretunes has also lost a distribution deal with the popular computer business software company\n"
          ]
        },
        {
          "name": "stderr",
          "output_type": "stream",
          "text": [
            "Processing  epoch 127: 100%|██████████| 245/245 [00:18<00:00, 13.16it/s, Loss=1.571]\n"
          ]
        },
        {
          "name": "stdout",
          "output_type": "stream",
          "text": [
            "--------------------------------------------------------------------------------\n",
            "Source: di bawah rencana yang diumumkan pada hari rabu di washington gm akan menyediakan pabrik dow dengan truk yang berisi peralatan konversi sel bahan bakar\n",
            "Target: under the plan being announced wednesday in washington gm will provide dow manufacturing plants with trucks containing fuel cell conversion equipment\n",
            "Predicted: under the plan which was announced wednesday in washington would provide dow manufacturing plants with trucks containing fuel cell conversion equipment\n",
            "--------------------------------------------------------------------------------\n",
            "Source: puretunes juga telah kehilangan kesepakatan distribusi dengan perusahaan perangkat lunak swapping grokster populer\n",
            "Target: puretunes has also lost a distribution deal with the popular grokster fileswapping software company\n",
            "Predicted: puretunes has also lost a distribution deal with the popular computer business software company\n"
          ]
        },
        {
          "name": "stderr",
          "output_type": "stream",
          "text": [
            "Processing  epoch 128: 100%|██████████| 245/245 [00:18<00:00, 13.16it/s, Loss=1.525]\n"
          ]
        },
        {
          "name": "stdout",
          "output_type": "stream",
          "text": [
            "--------------------------------------------------------------------------------\n",
            "Source: di bawah rencana yang diumumkan pada hari rabu di washington gm akan menyediakan pabrik dow dengan truk yang berisi peralatan konversi sel bahan bakar\n",
            "Target: under the plan being announced wednesday in washington gm will provide dow manufacturing plants with trucks containing fuel cell conversion equipment\n",
            "Predicted: under the plan which was announced wednesday in washington would provide dow manufacturing plants with trucks containing fuel cell conversion equipment\n",
            "--------------------------------------------------------------------------------\n",
            "Source: puretunes juga telah kehilangan kesepakatan distribusi dengan perusahaan perangkat lunak swapping grokster populer\n",
            "Target: puretunes has also lost a distribution deal with the popular grokster fileswapping software company\n",
            "Predicted: puretunes has also lost a distribution deal with the popular computer business software company\n"
          ]
        },
        {
          "name": "stderr",
          "output_type": "stream",
          "text": [
            "Processing  epoch 129: 100%|██████████| 245/245 [00:18<00:00, 13.01it/s, Loss=1.543]\n"
          ]
        },
        {
          "name": "stdout",
          "output_type": "stream",
          "text": [
            "--------------------------------------------------------------------------------\n",
            "Source: di bawah rencana yang diumumkan pada hari rabu di washington gm akan menyediakan pabrik dow dengan truk yang berisi peralatan konversi sel bahan bakar\n",
            "Target: under the plan being announced wednesday in washington gm will provide dow manufacturing plants with trucks containing fuel cell conversion equipment\n",
            "Predicted: under the plan being announced wednesday in washington gm will provide dow manufacturing plants with trucks containing fuel cell conversion equipment\n",
            "--------------------------------------------------------------------------------\n",
            "Source: puretunes juga telah kehilangan kesepakatan distribusi dengan perusahaan perangkat lunak swapping grokster populer\n",
            "Target: puretunes has also lost a distribution deal with the popular grokster fileswapping software company\n",
            "Predicted: puretunes has also lost a distribution deal with the popular computer business software company\n"
          ]
        },
        {
          "name": "stderr",
          "output_type": "stream",
          "text": [
            "Processing  epoch 130: 100%|██████████| 245/245 [00:18<00:00, 13.08it/s, Loss=1.563]\n"
          ]
        },
        {
          "name": "stdout",
          "output_type": "stream",
          "text": [
            "--------------------------------------------------------------------------------\n",
            "Source: di bawah rencana yang diumumkan pada hari rabu di washington gm akan menyediakan pabrik dow dengan truk yang berisi peralatan konversi sel bahan bakar\n",
            "Target: under the plan being announced wednesday in washington gm will provide dow manufacturing plants with trucks containing fuel cell conversion equipment\n",
            "Predicted: under the plan which announced wednesday in washington would provide dow manufacturing plants with trucks containing fuel cell conversion equipment\n",
            "--------------------------------------------------------------------------------\n",
            "Source: puretunes juga telah kehilangan kesepakatan distribusi dengan perusahaan perangkat lunak swapping grokster populer\n",
            "Target: puretunes has also lost a distribution deal with the popular grokster fileswapping software company\n",
            "Predicted: puretunes has also lost a distribution deal with the popular computer business software company\n"
          ]
        },
        {
          "name": "stderr",
          "output_type": "stream",
          "text": [
            "Processing  epoch 131: 100%|██████████| 245/245 [00:18<00:00, 13.13it/s, Loss=1.543]\n"
          ]
        },
        {
          "name": "stdout",
          "output_type": "stream",
          "text": [
            "--------------------------------------------------------------------------------\n",
            "Source: di bawah rencana yang diumumkan pada hari rabu di washington gm akan menyediakan pabrik dow dengan truk yang berisi peralatan konversi sel bahan bakar\n",
            "Target: under the plan being announced wednesday in washington gm will provide dow manufacturing plants with trucks containing fuel cell conversion equipment\n",
            "Predicted: under the plan being announced wednesday in washington gm will provide dow manufacturing plants with trucks containing fuel cell conversion equipment\n",
            "--------------------------------------------------------------------------------\n",
            "Source: puretunes juga telah kehilangan kesepakatan distribusi dengan perusahaan perangkat lunak swapping grokster populer\n",
            "Target: puretunes has also lost a distribution deal with the popular grokster fileswapping software company\n",
            "Predicted: puretunes has also lost a distribution deal with the popular software company software\n"
          ]
        },
        {
          "name": "stderr",
          "output_type": "stream",
          "text": [
            "Processing  epoch 132: 100%|██████████| 245/245 [00:18<00:00, 13.00it/s, Loss=1.563]\n"
          ]
        },
        {
          "name": "stdout",
          "output_type": "stream",
          "text": [
            "--------------------------------------------------------------------------------\n",
            "Source: di bawah rencana yang diumumkan pada hari rabu di washington gm akan menyediakan pabrik dow dengan truk yang berisi peralatan konversi sel bahan bakar\n",
            "Target: under the plan being announced wednesday in washington gm will provide dow manufacturing plants with trucks containing fuel cell conversion equipment\n",
            "Predicted: under the plan which announced wednesday in washington gm will provide dow manufacturing plants with trucks containing fuel cell conversion equipment\n",
            "--------------------------------------------------------------------------------\n",
            "Source: puretunes juga telah kehilangan kesepakatan distribusi dengan perusahaan perangkat lunak swapping grokster populer\n",
            "Target: puretunes has also lost a distribution deal with the popular grokster fileswapping software company\n",
            "Predicted: puretunes has also lost a distribution deal with the popular computer business software company\n"
          ]
        },
        {
          "name": "stderr",
          "output_type": "stream",
          "text": [
            "Processing  epoch 133: 100%|██████████| 245/245 [00:19<00:00, 12.84it/s, Loss=1.563]\n"
          ]
        },
        {
          "name": "stdout",
          "output_type": "stream",
          "text": [
            "--------------------------------------------------------------------------------\n",
            "Source: di bawah rencana yang diumumkan pada hari rabu di washington gm akan menyediakan pabrik dow dengan truk yang berisi peralatan konversi sel bahan bakar\n",
            "Target: under the plan being announced wednesday in washington gm will provide dow manufacturing plants with trucks containing fuel cell conversion equipment\n",
            "Predicted: under the plan which announced wednesday in washington gm will provide dow manufacturing plants with trucks containing fuel cell conversion equipment\n",
            "--------------------------------------------------------------------------------\n",
            "Source: puretunes juga telah kehilangan kesepakatan distribusi dengan perusahaan perangkat lunak swapping grokster populer\n",
            "Target: puretunes has also lost a distribution deal with the popular grokster fileswapping software company\n",
            "Predicted: puretunes has also lost a distribution deal with the popular computer business software company\n"
          ]
        },
        {
          "name": "stderr",
          "output_type": "stream",
          "text": [
            "Processing  epoch 134: 100%|██████████| 245/245 [00:19<00:00, 12.76it/s, Loss=1.564]\n"
          ]
        },
        {
          "name": "stdout",
          "output_type": "stream",
          "text": [
            "--------------------------------------------------------------------------------\n",
            "Source: di bawah rencana yang diumumkan pada hari rabu di washington gm akan menyediakan pabrik dow dengan truk yang berisi peralatan konversi sel bahan bakar\n",
            "Target: under the plan being announced wednesday in washington gm will provide dow manufacturing plants with trucks containing fuel cell conversion equipment\n",
            "Predicted: under the plan being announced wednesday in washington gm will provide dow manufacturing plants with trucks containing fuel cell conversion equipment\n",
            "--------------------------------------------------------------------------------\n",
            "Source: puretunes juga telah kehilangan kesepakatan distribusi dengan perusahaan perangkat lunak swapping grokster populer\n",
            "Target: puretunes has also lost a distribution deal with the popular grokster fileswapping software company\n",
            "Predicted: puretunes has also lost a distribution deal with the popular distribution company software company\n"
          ]
        },
        {
          "name": "stderr",
          "output_type": "stream",
          "text": [
            "Processing  epoch 135: 100%|██████████| 245/245 [00:18<00:00, 12.98it/s, Loss=1.558]\n"
          ]
        },
        {
          "name": "stdout",
          "output_type": "stream",
          "text": [
            "--------------------------------------------------------------------------------\n",
            "Source: di bawah rencana yang diumumkan pada hari rabu di washington gm akan menyediakan pabrik dow dengan truk yang berisi peralatan konversi sel bahan bakar\n",
            "Target: under the plan being announced wednesday in washington gm will provide dow manufacturing plants with trucks containing fuel cell conversion equipment\n",
            "Predicted: under the plan wednesday on washington gm will take to provide dow manufacturing plants with trucks containing fuel cell conversion equipment\n",
            "--------------------------------------------------------------------------------\n",
            "Source: puretunes juga telah kehilangan kesepakatan distribusi dengan perusahaan perangkat lunak swapping grokster populer\n",
            "Target: puretunes has also lost a distribution deal with the popular grokster fileswapping software company\n",
            "Predicted: puretunes has also lost a distribution deal with the popular distribution company software company\n"
          ]
        },
        {
          "name": "stderr",
          "output_type": "stream",
          "text": [
            "Processing  epoch 136: 100%|██████████| 245/245 [00:18<00:00, 13.00it/s, Loss=1.551]\n"
          ]
        },
        {
          "name": "stdout",
          "output_type": "stream",
          "text": [
            "--------------------------------------------------------------------------------\n",
            "Source: di bawah rencana yang diumumkan pada hari rabu di washington gm akan menyediakan pabrik dow dengan truk yang berisi peralatan konversi sel bahan bakar\n",
            "Target: under the plan being announced wednesday in washington gm will provide dow manufacturing plants with trucks containing fuel cell conversion equipment\n",
            "Predicted: under the plan being announced wednesday in washington gm will provide dow manufacturing plants with trucks containing fuel cell conversion equipment\n",
            "--------------------------------------------------------------------------------\n",
            "Source: puretunes juga telah kehilangan kesepakatan distribusi dengan perusahaan perangkat lunak swapping grokster populer\n",
            "Target: puretunes has also lost a distribution deal with the popular grokster fileswapping software company\n",
            "Predicted: puretunes has also lost a distribution deal with the popular distribution company software company\n"
          ]
        },
        {
          "name": "stderr",
          "output_type": "stream",
          "text": [
            "Processing  epoch 137: 100%|██████████| 245/245 [00:18<00:00, 13.08it/s, Loss=1.577]\n"
          ]
        },
        {
          "name": "stdout",
          "output_type": "stream",
          "text": [
            "--------------------------------------------------------------------------------\n",
            "Source: di bawah rencana yang diumumkan pada hari rabu di washington gm akan menyediakan pabrik dow dengan truk yang berisi peralatan konversi sel bahan bakar\n",
            "Target: under the plan being announced wednesday in washington gm will provide dow manufacturing plants with trucks containing fuel cell conversion equipment\n",
            "Predicted: under the plan wednesday on washington gm will take to provide dow manufacturing plants with trucks containing fuel cell conversion equipment\n",
            "--------------------------------------------------------------------------------\n",
            "Source: puretunes juga telah kehilangan kesepakatan distribusi dengan perusahaan perangkat lunak swapping grokster populer\n",
            "Target: puretunes has also lost a distribution deal with the popular grokster fileswapping software company\n",
            "Predicted: puretunes has also lost a distribution deal with the popular computer business software company\n"
          ]
        },
        {
          "name": "stderr",
          "output_type": "stream",
          "text": [
            "Processing  epoch 138: 100%|██████████| 245/245 [00:18<00:00, 12.97it/s, Loss=1.566]\n"
          ]
        },
        {
          "name": "stdout",
          "output_type": "stream",
          "text": [
            "--------------------------------------------------------------------------------\n",
            "Source: di bawah rencana yang diumumkan pada hari rabu di washington gm akan menyediakan pabrik dow dengan truk yang berisi peralatan konversi sel bahan bakar\n",
            "Target: under the plan being announced wednesday in washington gm will provide dow manufacturing plants with trucks containing fuel cell conversion equipment\n",
            "Predicted: under the plan wednesday on washington gm will provide dow manufacturing plants with trucks containing fuel cell conversion equipment\n",
            "--------------------------------------------------------------------------------\n",
            "Source: puretunes juga telah kehilangan kesepakatan distribusi dengan perusahaan perangkat lunak swapping grokster populer\n",
            "Target: puretunes has also lost a distribution deal with the popular grokster fileswapping software company\n",
            "Predicted: puretunes has also lost a distribution deal with the popular computer business software line\n"
          ]
        },
        {
          "name": "stderr",
          "output_type": "stream",
          "text": [
            "Processing  epoch 139: 100%|██████████| 245/245 [00:18<00:00, 13.01it/s, Loss=1.552]\n"
          ]
        },
        {
          "name": "stdout",
          "output_type": "stream",
          "text": [
            "--------------------------------------------------------------------------------\n",
            "Source: di bawah rencana yang diumumkan pada hari rabu di washington gm akan menyediakan pabrik dow dengan truk yang berisi peralatan konversi sel bahan bakar\n",
            "Target: under the plan being announced wednesday in washington gm will provide dow manufacturing plants with trucks containing fuel cell conversion equipment\n",
            "Predicted: under the plan which announced wednesday in washington gm will provide dow manufacturing plants with trucks containing fuel cell conversion equipment\n",
            "--------------------------------------------------------------------------------\n",
            "Source: puretunes juga telah kehilangan kesepakatan distribusi dengan perusahaan perangkat lunak swapping grokster populer\n",
            "Target: puretunes has also lost a distribution deal with the popular grokster fileswapping software company\n",
            "Predicted: puretunes has also lost a distribution deal with the popular computer business grokster\n"
          ]
        },
        {
          "name": "stderr",
          "output_type": "stream",
          "text": [
            "Processing  epoch 140: 100%|██████████| 245/245 [00:18<00:00, 13.07it/s, Loss=1.553]\n"
          ]
        },
        {
          "name": "stdout",
          "output_type": "stream",
          "text": [
            "--------------------------------------------------------------------------------\n",
            "Source: di bawah rencana yang diumumkan pada hari rabu di washington gm akan menyediakan pabrik dow dengan truk yang berisi peralatan konversi sel bahan bakar\n",
            "Target: under the plan being announced wednesday in washington gm will provide dow manufacturing plants with trucks containing fuel cell conversion equipment\n",
            "Predicted: under the plan which was announced wednesday in washington will provide dow manufacturing plants with trucks containing fuel cell conversion equipment\n",
            "--------------------------------------------------------------------------------\n",
            "Source: puretunes juga telah kehilangan kesepakatan distribusi dengan perusahaan perangkat lunak swapping grokster populer\n",
            "Target: puretunes has also lost a distribution deal with the popular grokster fileswapping software company\n",
            "Predicted: puretunes has also lost a distribution deal with the popular computer business grokster\n"
          ]
        },
        {
          "name": "stderr",
          "output_type": "stream",
          "text": [
            "Processing  epoch 141: 100%|██████████| 245/245 [00:18<00:00, 13.01it/s, Loss=1.545]\n"
          ]
        },
        {
          "name": "stdout",
          "output_type": "stream",
          "text": [
            "--------------------------------------------------------------------------------\n",
            "Source: di bawah rencana yang diumumkan pada hari rabu di washington gm akan menyediakan pabrik dow dengan truk yang berisi peralatan konversi sel bahan bakar\n",
            "Target: under the plan being announced wednesday in washington gm will provide dow manufacturing plants with trucks containing fuel cell conversion equipment\n",
            "Predicted: under the plan which announced wednesday in washington gm will provide dow manufacturing plants with trucks containing fuel cell conversion equipment\n",
            "--------------------------------------------------------------------------------\n",
            "Source: puretunes juga telah kehilangan kesepakatan distribusi dengan perusahaan perangkat lunak swapping grokster populer\n",
            "Target: puretunes has also lost a distribution deal with the popular grokster fileswapping software company\n",
            "Predicted: puretunes has also lost a distribution deal with the popular computer business grokster\n"
          ]
        },
        {
          "name": "stderr",
          "output_type": "stream",
          "text": [
            "Processing  epoch 142: 100%|██████████| 245/245 [00:18<00:00, 13.07it/s, Loss=1.567]\n"
          ]
        },
        {
          "name": "stdout",
          "output_type": "stream",
          "text": [
            "--------------------------------------------------------------------------------\n",
            "Source: di bawah rencana yang diumumkan pada hari rabu di washington gm akan menyediakan pabrik dow dengan truk yang berisi peralatan konversi sel bahan bakar\n",
            "Target: under the plan being announced wednesday in washington gm will provide dow manufacturing plants with trucks containing fuel cell conversion equipment\n",
            "Predicted: under the plan being announced wednesday in washington gm will provide dow manufacturing plants with trucks containing fuel cell conversion equipment\n",
            "--------------------------------------------------------------------------------\n",
            "Source: puretunes juga telah kehilangan kesepakatan distribusi dengan perusahaan perangkat lunak swapping grokster populer\n",
            "Target: puretunes has also lost a distribution deal with the popular grokster fileswapping software company\n",
            "Predicted: puretunes has also lost a distribution deal with the popular computer business software company\n"
          ]
        },
        {
          "name": "stderr",
          "output_type": "stream",
          "text": [
            "Processing  epoch 143: 100%|██████████| 245/245 [00:18<00:00, 13.02it/s, Loss=1.559]\n"
          ]
        },
        {
          "name": "stdout",
          "output_type": "stream",
          "text": [
            "--------------------------------------------------------------------------------\n",
            "Source: di bawah rencana yang diumumkan pada hari rabu di washington gm akan menyediakan pabrik dow dengan truk yang berisi peralatan konversi sel bahan bakar\n",
            "Target: under the plan being announced wednesday in washington gm will provide dow manufacturing plants with trucks containing fuel cell conversion equipment\n",
            "Predicted: under the plan which announced wednesday in washington gm will provide dow manufacturing plants with trucks containing fuel cell conversion equipment\n",
            "--------------------------------------------------------------------------------\n",
            "Source: puretunes juga telah kehilangan kesepakatan distribusi dengan perusahaan perangkat lunak swapping grokster populer\n",
            "Target: puretunes has also lost a distribution deal with the popular grokster fileswapping software company\n",
            "Predicted: puretunes has also lost a distribution deal with the popular computer business software company\n"
          ]
        },
        {
          "name": "stderr",
          "output_type": "stream",
          "text": [
            "Processing  epoch 144: 100%|██████████| 245/245 [00:18<00:00, 13.03it/s, Loss=1.517]\n"
          ]
        },
        {
          "name": "stdout",
          "output_type": "stream",
          "text": [
            "--------------------------------------------------------------------------------\n",
            "Source: di bawah rencana yang diumumkan pada hari rabu di washington gm akan menyediakan pabrik dow dengan truk yang berisi peralatan konversi sel bahan bakar\n",
            "Target: under the plan being announced wednesday in washington gm will provide dow manufacturing plants with trucks containing fuel cell conversion equipment\n",
            "Predicted: under the plan announced wednesday in washington gm will provide dow manufacturing plants with trucks containing fuel cell conversion equipment\n",
            "--------------------------------------------------------------------------------\n",
            "Source: puretunes juga telah kehilangan kesepakatan distribusi dengan perusahaan perangkat lunak swapping grokster populer\n",
            "Target: puretunes has also lost a distribution deal with the popular grokster fileswapping software company\n",
            "Predicted: puretunes has also lost a distribution deal with the popular computer business grokster\n"
          ]
        },
        {
          "name": "stderr",
          "output_type": "stream",
          "text": [
            "Processing  epoch 145: 100%|██████████| 245/245 [00:18<00:00, 12.94it/s, Loss=1.561]\n"
          ]
        },
        {
          "name": "stdout",
          "output_type": "stream",
          "text": [
            "--------------------------------------------------------------------------------\n",
            "Source: di bawah rencana yang diumumkan pada hari rabu di washington gm akan menyediakan pabrik dow dengan truk yang berisi peralatan konversi sel bahan bakar\n",
            "Target: under the plan being announced wednesday in washington gm will provide dow manufacturing plants with trucks containing fuel cell conversion equipment\n",
            "Predicted: under the plan being announced wednesday in washington gm will provide dow manufacturing plants with trucks containing fuel cell conversion equipment\n",
            "--------------------------------------------------------------------------------\n",
            "Source: puretunes juga telah kehilangan kesepakatan distribusi dengan perusahaan perangkat lunak swapping grokster populer\n",
            "Target: puretunes has also lost a distribution deal with the popular grokster fileswapping software company\n",
            "Predicted: puretunes has also lost a distribution deal with the popular computer business software company\n"
          ]
        },
        {
          "name": "stderr",
          "output_type": "stream",
          "text": [
            "Processing  epoch 146: 100%|██████████| 245/245 [00:18<00:00, 12.95it/s, Loss=1.510]\n"
          ]
        },
        {
          "name": "stdout",
          "output_type": "stream",
          "text": [
            "--------------------------------------------------------------------------------\n",
            "Source: di bawah rencana yang diumumkan pada hari rabu di washington gm akan menyediakan pabrik dow dengan truk yang berisi peralatan konversi sel bahan bakar\n",
            "Target: under the plan being announced wednesday in washington gm will provide dow manufacturing plants with trucks containing fuel cell conversion equipment\n",
            "Predicted: under the plan being announced wednesday in washington gm will provide dow manufacturing plants with trucks containing fuel cell conversion equipment\n",
            "--------------------------------------------------------------------------------\n",
            "Source: puretunes juga telah kehilangan kesepakatan distribusi dengan perusahaan perangkat lunak swapping grokster populer\n",
            "Target: puretunes has also lost a distribution deal with the popular grokster fileswapping software company\n",
            "Predicted: puretunes has also lost a distribution deal with the popular computer business grokster\n"
          ]
        },
        {
          "name": "stderr",
          "output_type": "stream",
          "text": [
            "Processing  epoch 147: 100%|██████████| 245/245 [00:19<00:00, 12.83it/s, Loss=1.554]\n"
          ]
        },
        {
          "name": "stdout",
          "output_type": "stream",
          "text": [
            "--------------------------------------------------------------------------------\n",
            "Source: di bawah rencana yang diumumkan pada hari rabu di washington gm akan menyediakan pabrik dow dengan truk yang berisi peralatan konversi sel bahan bakar\n",
            "Target: under the plan being announced wednesday in washington gm will provide dow manufacturing plants with trucks containing fuel cell conversion equipment\n",
            "Predicted: under the plan wednesday on washington gm will provide dow manufacturing plants with trucks containing fuel cell conversion equipment\n",
            "--------------------------------------------------------------------------------\n",
            "Source: puretunes juga telah kehilangan kesepakatan distribusi dengan perusahaan perangkat lunak swapping grokster populer\n",
            "Target: puretunes has also lost a distribution deal with the popular grokster fileswapping software company\n",
            "Predicted: puretunes has also lost a distribution deal with the popular computer business software company\n"
          ]
        },
        {
          "name": "stderr",
          "output_type": "stream",
          "text": [
            "Processing  epoch 148: 100%|██████████| 245/245 [00:18<00:00, 12.96it/s, Loss=1.545]\n"
          ]
        },
        {
          "name": "stdout",
          "output_type": "stream",
          "text": [
            "--------------------------------------------------------------------------------\n",
            "Source: di bawah rencana yang diumumkan pada hari rabu di washington gm akan menyediakan pabrik dow dengan truk yang berisi peralatan konversi sel bahan bakar\n",
            "Target: under the plan being announced wednesday in washington gm will provide dow manufacturing plants with trucks containing fuel cell conversion equipment\n",
            "Predicted: under the plan today on washington gm will provide dow manufacturing plants with trucks containing fuel cell conversion equipment\n",
            "--------------------------------------------------------------------------------\n",
            "Source: puretunes juga telah kehilangan kesepakatan distribusi dengan perusahaan perangkat lunak swapping grokster populer\n",
            "Target: puretunes has also lost a distribution deal with the popular grokster fileswapping software company\n",
            "Predicted: puretunes has also lost a distribution deal with the popular computer business software company\n"
          ]
        },
        {
          "name": "stderr",
          "output_type": "stream",
          "text": [
            "Processing  epoch 149: 100%|██████████| 245/245 [00:18<00:00, 12.92it/s, Loss=1.524]\n"
          ]
        },
        {
          "name": "stdout",
          "output_type": "stream",
          "text": [
            "--------------------------------------------------------------------------------\n",
            "Source: di bawah rencana yang diumumkan pada hari rabu di washington gm akan menyediakan pabrik dow dengan truk yang berisi peralatan konversi sel bahan bakar\n",
            "Target: under the plan being announced wednesday in washington gm will provide dow manufacturing plants with trucks containing fuel cell conversion equipment\n",
            "Predicted: under the plan today on washington gm will provide dow manufacturing plants with trucks containing fuel cell conversion equipment\n",
            "--------------------------------------------------------------------------------\n",
            "Source: puretunes juga telah kehilangan kesepakatan distribusi dengan perusahaan perangkat lunak swapping grokster populer\n",
            "Target: puretunes has also lost a distribution deal with the popular grokster fileswapping software company\n",
            "Predicted: puretunes has also lost a distribution deal with the popular computer business grokster\n",
            "using device :  cuda\n",
            "Preloading model weights/model_2/tmodel_99.pt\n"
          ]
        },
        {
          "name": "stderr",
          "output_type": "stream",
          "text": [
            "Processing  epoch 100: 100%|██████████| 245/245 [00:19<00:00, 12.77it/s, Loss=1.908]\n"
          ]
        },
        {
          "name": "stdout",
          "output_type": "stream",
          "text": [
            "--------------------------------------------------------------------------------\n",
            "Source: di bawah rencana yang diumumkan pada hari rabu di washington gm akan menyediakan pabrik dow dengan truk yang berisi peralatan konversi sel bahan bakar\n",
            "Target: under the plan being announced wednesday in washington gm will provide dow manufacturing plants with trucks containing fuel cell conversion equipment\n",
            "Predicted: under the plan being announced wednesday in washington gm will provide dow manufacturing plants with trucks containing fuel cell conversion equipment\n",
            "--------------------------------------------------------------------------------\n",
            "Source: puretunes juga telah kehilangan kesepakatan distribusi dengan perusahaan perangkat lunak swapping grokster populer\n",
            "Target: puretunes has also lost a distribution deal with the popular grokster fileswapping software company\n",
            "Predicted: puretunes has also lost a distribution deal with the popular grokster software company\n"
          ]
        },
        {
          "name": "stderr",
          "output_type": "stream",
          "text": [
            "Processing  epoch 101: 100%|██████████| 245/245 [00:18<00:00, 12.91it/s, Loss=1.735]\n"
          ]
        },
        {
          "name": "stdout",
          "output_type": "stream",
          "text": [
            "--------------------------------------------------------------------------------\n",
            "Source: di bawah rencana yang diumumkan pada hari rabu di washington gm akan menyediakan pabrik dow dengan truk yang berisi peralatan konversi sel bahan bakar\n",
            "Target: under the plan being announced wednesday in washington gm will provide dow manufacturing plants with trucks containing fuel cell conversion equipment\n",
            "Predicted: under the plan announced wednesday in washington gm will provide dow manufacturing plants with trucks containing fuel cell conversion equipment\n",
            "--------------------------------------------------------------------------------\n",
            "Source: puretunes juga telah kehilangan kesepakatan distribusi dengan perusahaan perangkat lunak swapping grokster populer\n",
            "Target: puretunes has also lost a distribution deal with the popular grokster fileswapping software company\n",
            "Predicted: puretunes has also lost a distribution deal with the popular grokster software company\n"
          ]
        },
        {
          "name": "stderr",
          "output_type": "stream",
          "text": [
            "Processing  epoch 102: 100%|██████████| 245/245 [00:18<00:00, 13.09it/s, Loss=2.004]\n"
          ]
        },
        {
          "name": "stdout",
          "output_type": "stream",
          "text": [
            "--------------------------------------------------------------------------------\n",
            "Source: di bawah rencana yang diumumkan pada hari rabu di washington gm akan menyediakan pabrik dow dengan truk yang berisi peralatan konversi sel bahan bakar\n",
            "Target: under the plan being announced wednesday in washington gm will provide dow manufacturing plants with trucks containing fuel cell conversion equipment\n",
            "Predicted: under the plan being announced wednesday in washington gm will provide dow manufacturing plants with trucks containing fuel cell conversion equipment\n",
            "--------------------------------------------------------------------------------\n",
            "Source: puretunes juga telah kehilangan kesepakatan distribusi dengan perusahaan perangkat lunak swapping grokster populer\n",
            "Target: puretunes has also lost a distribution deal with the popular grokster fileswapping software company\n",
            "Predicted: puretunes has also lost a distribution deal with the popular grokster software company\n"
          ]
        },
        {
          "name": "stderr",
          "output_type": "stream",
          "text": [
            "Processing  epoch 103: 100%|██████████| 245/245 [00:19<00:00, 12.79it/s, Loss=1.941]\n"
          ]
        },
        {
          "name": "stdout",
          "output_type": "stream",
          "text": [
            "--------------------------------------------------------------------------------\n",
            "Source: di bawah rencana yang diumumkan pada hari rabu di washington gm akan menyediakan pabrik dow dengan truk yang berisi peralatan konversi sel bahan bakar\n",
            "Target: under the plan being announced wednesday in washington gm will provide dow manufacturing plants with trucks containing fuel cell conversion equipment\n",
            "Predicted: under the plan being announced wednesday in washington gm will provide dow manufacturing plants with trucks containing fuel cell conversion equipment\n",
            "--------------------------------------------------------------------------------\n",
            "Source: puretunes juga telah kehilangan kesepakatan distribusi dengan perusahaan perangkat lunak swapping grokster populer\n",
            "Target: puretunes has also lost a distribution deal with the popular grokster fileswapping software company\n",
            "Predicted: puretunes has also lost a distribution deal with the popular grokster software company\n"
          ]
        },
        {
          "name": "stderr",
          "output_type": "stream",
          "text": [
            "Processing  epoch 104: 100%|██████████| 245/245 [00:18<00:00, 12.95it/s, Loss=1.719]\n"
          ]
        },
        {
          "name": "stdout",
          "output_type": "stream",
          "text": [
            "--------------------------------------------------------------------------------\n",
            "Source: di bawah rencana yang diumumkan pada hari rabu di washington gm akan menyediakan pabrik dow dengan truk yang berisi peralatan konversi sel bahan bakar\n",
            "Target: under the plan being announced wednesday in washington gm will provide dow manufacturing plants with trucks containing fuel cell conversion equipment\n",
            "Predicted: under the plan being announced wednesday in washington gm will provide dow manufacturing plants with trucks containing fuel cell conversion equipment\n",
            "--------------------------------------------------------------------------------\n",
            "Source: puretunes juga telah kehilangan kesepakatan distribusi dengan perusahaan perangkat lunak swapping grokster populer\n",
            "Target: puretunes has also lost a distribution deal with the popular grokster fileswapping software company\n",
            "Predicted: puretunes has also lost a distribution deal with the popular grokster software company\n"
          ]
        },
        {
          "name": "stderr",
          "output_type": "stream",
          "text": [
            "Processing  epoch 105: 100%|██████████| 245/245 [00:18<00:00, 12.92it/s, Loss=1.890]\n"
          ]
        },
        {
          "name": "stdout",
          "output_type": "stream",
          "text": [
            "--------------------------------------------------------------------------------\n",
            "Source: di bawah rencana yang diumumkan pada hari rabu di washington gm akan menyediakan pabrik dow dengan truk yang berisi peralatan konversi sel bahan bakar\n",
            "Target: under the plan being announced wednesday in washington gm will provide dow manufacturing plants with trucks containing fuel cell conversion equipment\n",
            "Predicted: under the plan being announced wednesday in washington gm will provide dow manufacturing plants with trucks containing fuel cell conversion equipment\n",
            "--------------------------------------------------------------------------------\n",
            "Source: puretunes juga telah kehilangan kesepakatan distribusi dengan perusahaan perangkat lunak swapping grokster populer\n",
            "Target: puretunes has also lost a distribution deal with the popular grokster fileswapping software company\n",
            "Predicted: puretunes has also lost a distribution deal with the popular grokster software company\n"
          ]
        },
        {
          "name": "stderr",
          "output_type": "stream",
          "text": [
            "Processing  epoch 106: 100%|██████████| 245/245 [00:18<00:00, 12.94it/s, Loss=1.688]\n"
          ]
        },
        {
          "name": "stdout",
          "output_type": "stream",
          "text": [
            "--------------------------------------------------------------------------------\n",
            "Source: di bawah rencana yang diumumkan pada hari rabu di washington gm akan menyediakan pabrik dow dengan truk yang berisi peralatan konversi sel bahan bakar\n",
            "Target: under the plan being announced wednesday in washington gm will provide dow manufacturing plants with trucks containing fuel cell conversion equipment\n",
            "Predicted: under the plan being announced wednesday in washington gm will provide dow manufacturing plants with trucks containing fuel cell conversion equipment\n",
            "--------------------------------------------------------------------------------\n",
            "Source: puretunes juga telah kehilangan kesepakatan distribusi dengan perusahaan perangkat lunak swapping grokster populer\n",
            "Target: puretunes has also lost a distribution deal with the popular grokster fileswapping software company\n",
            "Predicted: puretunes has also lost a distribution deal with the popular grokster software company\n"
          ]
        },
        {
          "name": "stderr",
          "output_type": "stream",
          "text": [
            "Processing  epoch 107: 100%|██████████| 245/245 [00:19<00:00, 12.55it/s, Loss=1.702]\n"
          ]
        },
        {
          "name": "stdout",
          "output_type": "stream",
          "text": [
            "--------------------------------------------------------------------------------\n",
            "Source: di bawah rencana yang diumumkan pada hari rabu di washington gm akan menyediakan pabrik dow dengan truk yang berisi peralatan konversi sel bahan bakar\n",
            "Target: under the plan being announced wednesday in washington gm will provide dow manufacturing plants with trucks containing fuel cell conversion equipment\n",
            "Predicted: under the plan being announced wednesday in washington gm will provide dow manufacturing plants with trucks containing fuel cell conversion equipment\n",
            "--------------------------------------------------------------------------------\n",
            "Source: puretunes juga telah kehilangan kesepakatan distribusi dengan perusahaan perangkat lunak swapping grokster populer\n",
            "Target: puretunes has also lost a distribution deal with the popular grokster fileswapping software company\n",
            "Predicted: puretunes has also lost a distribution deal with the popular grokster software company\n"
          ]
        },
        {
          "name": "stderr",
          "output_type": "stream",
          "text": [
            "Processing  epoch 108: 100%|██████████| 245/245 [00:20<00:00, 12.24it/s, Loss=1.634]\n"
          ]
        },
        {
          "name": "stdout",
          "output_type": "stream",
          "text": [
            "--------------------------------------------------------------------------------\n",
            "Source: di bawah rencana yang diumumkan pada hari rabu di washington gm akan menyediakan pabrik dow dengan truk yang berisi peralatan konversi sel bahan bakar\n",
            "Target: under the plan being announced wednesday in washington gm will provide dow manufacturing plants with trucks containing fuel cell conversion equipment\n",
            "Predicted: under the plan being announced wednesday in washington gm will provide dow manufacturing plants with trucks containing fuel cell conversion equipment\n",
            "--------------------------------------------------------------------------------\n",
            "Source: puretunes juga telah kehilangan kesepakatan distribusi dengan perusahaan perangkat lunak swapping grokster populer\n",
            "Target: puretunes has also lost a distribution deal with the popular grokster fileswapping software company\n",
            "Predicted: puretunes has also lost a distribution deal with the popular grokster software company\n"
          ]
        },
        {
          "name": "stderr",
          "output_type": "stream",
          "text": [
            "Processing  epoch 109: 100%|██████████| 245/245 [00:19<00:00, 12.79it/s, Loss=1.630]\n"
          ]
        },
        {
          "name": "stdout",
          "output_type": "stream",
          "text": [
            "--------------------------------------------------------------------------------\n",
            "Source: di bawah rencana yang diumumkan pada hari rabu di washington gm akan menyediakan pabrik dow dengan truk yang berisi peralatan konversi sel bahan bakar\n",
            "Target: under the plan being announced wednesday in washington gm will provide dow manufacturing plants with trucks containing fuel cell conversion equipment\n",
            "Predicted: under the plan being announced wednesday in washington gm will provide dow manufacturing plants with trucks containing fuel cell conversion equipment\n",
            "--------------------------------------------------------------------------------\n",
            "Source: puretunes juga telah kehilangan kesepakatan distribusi dengan perusahaan perangkat lunak swapping grokster populer\n",
            "Target: puretunes has also lost a distribution deal with the popular grokster fileswapping software company\n",
            "Predicted: puretunes has also lost a distribution deal with the popular grokster software company\n"
          ]
        },
        {
          "name": "stderr",
          "output_type": "stream",
          "text": [
            "Processing  epoch 110: 100%|██████████| 245/245 [00:19<00:00, 12.82it/s, Loss=1.702]\n"
          ]
        },
        {
          "name": "stdout",
          "output_type": "stream",
          "text": [
            "--------------------------------------------------------------------------------\n",
            "Source: di bawah rencana yang diumumkan pada hari rabu di washington gm akan menyediakan pabrik dow dengan truk yang berisi peralatan konversi sel bahan bakar\n",
            "Target: under the plan being announced wednesday in washington gm will provide dow manufacturing plants with trucks containing fuel cell conversion equipment\n",
            "Predicted: under the plan being announced wednesday in washington gm will provide dow manufacturing plants with trucks containing fuel cell conversion equipment\n",
            "--------------------------------------------------------------------------------\n",
            "Source: puretunes juga telah kehilangan kesepakatan distribusi dengan perusahaan perangkat lunak swapping grokster populer\n",
            "Target: puretunes has also lost a distribution deal with the popular grokster fileswapping software company\n",
            "Predicted: puretunes has also lost a distribution deal with the popular grokster software company\n"
          ]
        },
        {
          "name": "stderr",
          "output_type": "stream",
          "text": [
            "Processing  epoch 111: 100%|██████████| 245/245 [00:18<00:00, 12.92it/s, Loss=1.712]\n"
          ]
        },
        {
          "name": "stdout",
          "output_type": "stream",
          "text": [
            "--------------------------------------------------------------------------------\n",
            "Source: di bawah rencana yang diumumkan pada hari rabu di washington gm akan menyediakan pabrik dow dengan truk yang berisi peralatan konversi sel bahan bakar\n",
            "Target: under the plan being announced wednesday in washington gm will provide dow manufacturing plants with trucks containing fuel cell conversion equipment\n",
            "Predicted: under the plan being announced wednesday in washington gm will provide dow manufacturing plants with trucks containing fuel cell conversion equipment\n",
            "--------------------------------------------------------------------------------\n",
            "Source: puretunes juga telah kehilangan kesepakatan distribusi dengan perusahaan perangkat lunak swapping grokster populer\n",
            "Target: puretunes has also lost a distribution deal with the popular grokster fileswapping software company\n",
            "Predicted: puretunes has also lost a distribution deal with the popular grokster software company\n"
          ]
        },
        {
          "name": "stderr",
          "output_type": "stream",
          "text": [
            "Processing  epoch 112: 100%|██████████| 245/245 [00:19<00:00, 12.79it/s, Loss=1.724]\n"
          ]
        },
        {
          "name": "stdout",
          "output_type": "stream",
          "text": [
            "--------------------------------------------------------------------------------\n",
            "Source: di bawah rencana yang diumumkan pada hari rabu di washington gm akan menyediakan pabrik dow dengan truk yang berisi peralatan konversi sel bahan bakar\n",
            "Target: under the plan being announced wednesday in washington gm will provide dow manufacturing plants with trucks containing fuel cell conversion equipment\n",
            "Predicted: under the plan being announced wednesday in washington gm will provide dow manufacturing plants with trucks containing fuel cell conversion equipment\n",
            "--------------------------------------------------------------------------------\n",
            "Source: puretunes juga telah kehilangan kesepakatan distribusi dengan perusahaan perangkat lunak swapping grokster populer\n",
            "Target: puretunes has also lost a distribution deal with the popular grokster fileswapping software company\n",
            "Predicted: puretunes has also lost a distribution deal with the popular grokster software company\n"
          ]
        },
        {
          "name": "stderr",
          "output_type": "stream",
          "text": [
            "Processing  epoch 113: 100%|██████████| 245/245 [00:19<00:00, 12.79it/s, Loss=1.702]\n"
          ]
        },
        {
          "name": "stdout",
          "output_type": "stream",
          "text": [
            "--------------------------------------------------------------------------------\n",
            "Source: di bawah rencana yang diumumkan pada hari rabu di washington gm akan menyediakan pabrik dow dengan truk yang berisi peralatan konversi sel bahan bakar\n",
            "Target: under the plan being announced wednesday in washington gm will provide dow manufacturing plants with trucks containing fuel cell conversion equipment\n",
            "Predicted: under the plan announced wednesday in washington gm will provide dow manufacturing plants with trucks containing fuel cell conversion equipment\n",
            "--------------------------------------------------------------------------------\n",
            "Source: puretunes juga telah kehilangan kesepakatan distribusi dengan perusahaan perangkat lunak swapping grokster populer\n",
            "Target: puretunes has also lost a distribution deal with the popular grokster fileswapping software company\n",
            "Predicted: puretunes has also lost a distribution deal with the popular grokster software company\n"
          ]
        },
        {
          "name": "stderr",
          "output_type": "stream",
          "text": [
            "Processing  epoch 114: 100%|██████████| 245/245 [00:18<00:00, 12.94it/s, Loss=1.725]\n"
          ]
        },
        {
          "name": "stdout",
          "output_type": "stream",
          "text": [
            "--------------------------------------------------------------------------------\n",
            "Source: di bawah rencana yang diumumkan pada hari rabu di washington gm akan menyediakan pabrik dow dengan truk yang berisi peralatan konversi sel bahan bakar\n",
            "Target: under the plan being announced wednesday in washington gm will provide dow manufacturing plants with trucks containing fuel cell conversion equipment\n",
            "Predicted: under the plan being announced wednesday in washington gm will provide dow manufacturing plants with trucks containing fuel cell conversion equipment\n",
            "--------------------------------------------------------------------------------\n",
            "Source: puretunes juga telah kehilangan kesepakatan distribusi dengan perusahaan perangkat lunak swapping grokster populer\n",
            "Target: puretunes has also lost a distribution deal with the popular grokster fileswapping software company\n",
            "Predicted: puretunes has also lost a distribution deal with the popular grokster software company\n"
          ]
        },
        {
          "name": "stderr",
          "output_type": "stream",
          "text": [
            "Processing  epoch 115: 100%|██████████| 245/245 [00:18<00:00, 12.91it/s, Loss=1.695]\n"
          ]
        },
        {
          "name": "stdout",
          "output_type": "stream",
          "text": [
            "--------------------------------------------------------------------------------\n",
            "Source: di bawah rencana yang diumumkan pada hari rabu di washington gm akan menyediakan pabrik dow dengan truk yang berisi peralatan konversi sel bahan bakar\n",
            "Target: under the plan being announced wednesday in washington gm will provide dow manufacturing plants with trucks containing fuel cell conversion equipment\n",
            "Predicted: under the plan being announced wednesday in washington gm will provide dow manufacturing plants with trucks containing fuel cell conversion equipment\n",
            "--------------------------------------------------------------------------------\n",
            "Source: puretunes juga telah kehilangan kesepakatan distribusi dengan perusahaan perangkat lunak swapping grokster populer\n",
            "Target: puretunes has also lost a distribution deal with the popular grokster fileswapping software company\n",
            "Predicted: puretunes has also lost a distribution deal with the popular grokster software company\n"
          ]
        },
        {
          "name": "stderr",
          "output_type": "stream",
          "text": [
            "Processing  epoch 116: 100%|██████████| 245/245 [00:18<00:00, 12.92it/s, Loss=1.617]\n"
          ]
        },
        {
          "name": "stdout",
          "output_type": "stream",
          "text": [
            "--------------------------------------------------------------------------------\n",
            "Source: di bawah rencana yang diumumkan pada hari rabu di washington gm akan menyediakan pabrik dow dengan truk yang berisi peralatan konversi sel bahan bakar\n",
            "Target: under the plan being announced wednesday in washington gm will provide dow manufacturing plants with trucks containing fuel cell conversion equipment\n",
            "Predicted: under the plan being announced wednesday in washington gm will provide dow manufacturing plants with trucks containing fuel cell conversion equipment\n",
            "--------------------------------------------------------------------------------\n",
            "Source: puretunes juga telah kehilangan kesepakatan distribusi dengan perusahaan perangkat lunak swapping grokster populer\n",
            "Target: puretunes has also lost a distribution deal with the popular grokster fileswapping software company\n",
            "Predicted: puretunes has also lost a distribution deal with the popular grokster software company\n"
          ]
        },
        {
          "name": "stderr",
          "output_type": "stream",
          "text": [
            "Processing  epoch 117: 100%|██████████| 245/245 [00:18<00:00, 12.90it/s, Loss=1.608]\n"
          ]
        },
        {
          "name": "stdout",
          "output_type": "stream",
          "text": [
            "--------------------------------------------------------------------------------\n",
            "Source: di bawah rencana yang diumumkan pada hari rabu di washington gm akan menyediakan pabrik dow dengan truk yang berisi peralatan konversi sel bahan bakar\n",
            "Target: under the plan being announced wednesday in washington gm will provide dow manufacturing plants with trucks containing fuel cell conversion equipment\n",
            "Predicted: under the plan being announced wednesday in washington gm will provide dow manufacturing plants with trucks containing fuel cell conversion equipment\n",
            "--------------------------------------------------------------------------------\n",
            "Source: puretunes juga telah kehilangan kesepakatan distribusi dengan perusahaan perangkat lunak swapping grokster populer\n",
            "Target: puretunes has also lost a distribution deal with the popular grokster fileswapping software company\n",
            "Predicted: puretunes has also lost a distribution deal with the popular grokster software company\n"
          ]
        },
        {
          "name": "stderr",
          "output_type": "stream",
          "text": [
            "Processing  epoch 118: 100%|██████████| 245/245 [00:19<00:00, 12.84it/s, Loss=1.618]\n"
          ]
        },
        {
          "name": "stdout",
          "output_type": "stream",
          "text": [
            "--------------------------------------------------------------------------------\n",
            "Source: di bawah rencana yang diumumkan pada hari rabu di washington gm akan menyediakan pabrik dow dengan truk yang berisi peralatan konversi sel bahan bakar\n",
            "Target: under the plan being announced wednesday in washington gm will provide dow manufacturing plants with trucks containing fuel cell conversion equipment\n",
            "Predicted: under the plan being announced wednesday in washington gm will provide dow manufacturing plants with trucks containing fuel cell conversion equipment\n",
            "--------------------------------------------------------------------------------\n",
            "Source: puretunes juga telah kehilangan kesepakatan distribusi dengan perusahaan perangkat lunak swapping grokster populer\n",
            "Target: puretunes has also lost a distribution deal with the popular grokster fileswapping software company\n",
            "Predicted: puretunes has also lost a distribution deal with the popular grokster software company\n"
          ]
        },
        {
          "name": "stderr",
          "output_type": "stream",
          "text": [
            "Processing  epoch 119: 100%|██████████| 245/245 [00:18<00:00, 12.90it/s, Loss=1.673]\n"
          ]
        },
        {
          "name": "stdout",
          "output_type": "stream",
          "text": [
            "--------------------------------------------------------------------------------\n",
            "Source: di bawah rencana yang diumumkan pada hari rabu di washington gm akan menyediakan pabrik dow dengan truk yang berisi peralatan konversi sel bahan bakar\n",
            "Target: under the plan being announced wednesday in washington gm will provide dow manufacturing plants with trucks containing fuel cell conversion equipment\n",
            "Predicted: under the plan being announced wednesday in washington gm will provide dow manufacturing plants with trucks containing fuel cell conversion equipment\n",
            "--------------------------------------------------------------------------------\n",
            "Source: puretunes juga telah kehilangan kesepakatan distribusi dengan perusahaan perangkat lunak swapping grokster populer\n",
            "Target: puretunes has also lost a distribution deal with the popular grokster fileswapping software company\n",
            "Predicted: puretunes has also lost a distribution deal with the popular grokster software company\n"
          ]
        },
        {
          "name": "stderr",
          "output_type": "stream",
          "text": [
            "Processing  epoch 120: 100%|██████████| 245/245 [00:19<00:00, 12.83it/s, Loss=1.635]\n"
          ]
        },
        {
          "name": "stdout",
          "output_type": "stream",
          "text": [
            "--------------------------------------------------------------------------------\n",
            "Source: di bawah rencana yang diumumkan pada hari rabu di washington gm akan menyediakan pabrik dow dengan truk yang berisi peralatan konversi sel bahan bakar\n",
            "Target: under the plan being announced wednesday in washington gm will provide dow manufacturing plants with trucks containing fuel cell conversion equipment\n",
            "Predicted: under the plan announced wednesday in washington gm will provide dow manufacturing plants with trucks containing fuel cell conversion equipment\n",
            "--------------------------------------------------------------------------------\n",
            "Source: puretunes juga telah kehilangan kesepakatan distribusi dengan perusahaan perangkat lunak swapping grokster populer\n",
            "Target: puretunes has also lost a distribution deal with the popular grokster fileswapping software company\n",
            "Predicted: puretunes has also lost a distribution deal with the popular grokster software company\n"
          ]
        },
        {
          "name": "stderr",
          "output_type": "stream",
          "text": [
            "Processing  epoch 121:  87%|████████▋ | 213/245 [00:16<00:02, 12.71it/s, Loss=1.591]\n"
          ]
        },
        {
          "ename": "KeyboardInterrupt",
          "evalue": "",
          "output_type": "error",
          "traceback": [
            "\u001b[31m---------------------------------------------------------------------------\u001b[39m",
            "\u001b[31mKeyboardInterrupt\u001b[39m                         Traceback (most recent call last)",
            "\u001b[36mCell\u001b[39m\u001b[36m \u001b[39m\u001b[32mIn[3]\u001b[39m\u001b[32m, line 12\u001b[39m\n\u001b[32m     10\u001b[39m train_dataloader, val_dataloader, tokenizer_src, tokenizer_tgt = get_ds(config=config[\u001b[33m\"\u001b[39m\u001b[33mmodel_1\u001b[39m\u001b[33m\"\u001b[39m])\n\u001b[32m     11\u001b[39m \u001b[38;5;28;01mfor\u001b[39;00m _, value \u001b[38;5;129;01min\u001b[39;00m config.items():\n\u001b[32m---> \u001b[39m\u001b[32m12\u001b[39m   \u001b[43mtrain_model\u001b[49m\u001b[43m(\u001b[49m\u001b[43mvalue\u001b[49m\u001b[43m,\u001b[49m\u001b[43m \u001b[49m\u001b[43mtrain_dataloader\u001b[49m\u001b[43m,\u001b[49m\u001b[43m \u001b[49m\u001b[43mval_dataloader\u001b[49m\u001b[43m,\u001b[49m\u001b[43m \u001b[49m\u001b[43mtokenizer_src\u001b[49m\u001b[43m,\u001b[49m\u001b[43m \u001b[49m\u001b[43mtokenizer_tgt\u001b[49m\u001b[43m)\u001b[49m\n",
            "\u001b[36mFile \u001b[39m\u001b[32m~/Codes/Skripsi/Codes/Machine Translation Majority vote ensemble/train.py:221\u001b[39m, in \u001b[36mtrain_model\u001b[39m\u001b[34m(config, train_dataloader, val_dataloader, tokenizer_src, tokenizer_tgt)\u001b[39m\n\u001b[32m    219\u001b[39m \u001b[38;5;28;01mfor\u001b[39;00m epoch \u001b[38;5;129;01min\u001b[39;00m \u001b[38;5;28mrange\u001b[39m(initial_epoch, config[\u001b[33m\"\u001b[39m\u001b[33mnum_epochs\u001b[39m\u001b[33m\"\u001b[39m]):\n\u001b[32m    220\u001b[39m   batch_iterator = tqdm(train_dataloader, desc=\u001b[33mf\u001b[39m\u001b[33m\"\u001b[39m\u001b[33mProcessing  epoch \u001b[39m\u001b[38;5;132;01m{\u001b[39;00mepoch\u001b[38;5;132;01m:\u001b[39;00m\u001b[33m02d\u001b[39m\u001b[38;5;132;01m}\u001b[39;00m\u001b[33m\"\u001b[39m)\n\u001b[32m--> \u001b[39m\u001b[32m221\u001b[39m \u001b[43m  \u001b[49m\u001b[38;5;28;43;01mfor\u001b[39;49;00m\u001b[43m \u001b[49m\u001b[43mbatch\u001b[49m\u001b[43m \u001b[49m\u001b[38;5;129;43;01min\u001b[39;49;00m\u001b[43m \u001b[49m\u001b[43mbatch_iterator\u001b[49m\u001b[43m:\u001b[49m\n\u001b[32m    222\u001b[39m \u001b[43m    \u001b[49m\u001b[43mmodel\u001b[49m\u001b[43m.\u001b[49m\u001b[43mtrain\u001b[49m\u001b[43m(\u001b[49m\u001b[43m)\u001b[49m\n\u001b[32m    223\u001b[39m \u001b[43m    \u001b[49m\u001b[43mencoder_input\u001b[49m\u001b[43m \u001b[49m\u001b[43m=\u001b[49m\u001b[43m \u001b[49m\u001b[43mbatch\u001b[49m\u001b[43m[\u001b[49m\u001b[33;43m\"\u001b[39;49m\u001b[33;43mencoder_input\u001b[39;49m\u001b[33;43m\"\u001b[39;49m\u001b[43m]\u001b[49m\u001b[43m.\u001b[49m\u001b[43mto\u001b[49m\u001b[43m(\u001b[49m\u001b[43mdevice\u001b[49m\u001b[43m)\u001b[49m\n",
            "\u001b[36mFile \u001b[39m\u001b[32m~/miniconda3/envs/DeepLearning/lib/python3.13/site-packages/tqdm/std.py:1181\u001b[39m, in \u001b[36mtqdm.__iter__\u001b[39m\u001b[34m(self)\u001b[39m\n\u001b[32m   1178\u001b[39m time = \u001b[38;5;28mself\u001b[39m._time\n\u001b[32m   1180\u001b[39m \u001b[38;5;28;01mtry\u001b[39;00m:\n\u001b[32m-> \u001b[39m\u001b[32m1181\u001b[39m \u001b[43m    \u001b[49m\u001b[38;5;28;43;01mfor\u001b[39;49;00m\u001b[43m \u001b[49m\u001b[43mobj\u001b[49m\u001b[43m \u001b[49m\u001b[38;5;129;43;01min\u001b[39;49;00m\u001b[43m \u001b[49m\u001b[43miterable\u001b[49m\u001b[43m:\u001b[49m\n\u001b[32m   1182\u001b[39m \u001b[43m        \u001b[49m\u001b[38;5;28;43;01myield\u001b[39;49;00m\u001b[43m \u001b[49m\u001b[43mobj\u001b[49m\n\u001b[32m   1183\u001b[39m \u001b[43m        \u001b[49m\u001b[38;5;66;43;03m# Update and possibly print the progressbar.\u001b[39;49;00m\n\u001b[32m   1184\u001b[39m \u001b[43m        \u001b[49m\u001b[38;5;66;43;03m# Note: does not call self.update(1) for speed optimisation.\u001b[39;49;00m\n",
            "\u001b[36mFile \u001b[39m\u001b[32m~/miniconda3/envs/DeepLearning/lib/python3.13/site-packages/torch/utils/data/dataloader.py:733\u001b[39m, in \u001b[36m_BaseDataLoaderIter.__next__\u001b[39m\u001b[34m(self)\u001b[39m\n\u001b[32m    730\u001b[39m \u001b[38;5;28;01mif\u001b[39;00m \u001b[38;5;28mself\u001b[39m._sampler_iter \u001b[38;5;129;01mis\u001b[39;00m \u001b[38;5;28;01mNone\u001b[39;00m:\n\u001b[32m    731\u001b[39m     \u001b[38;5;66;03m# TODO(https://github.com/pytorch/pytorch/issues/76750)\u001b[39;00m\n\u001b[32m    732\u001b[39m     \u001b[38;5;28mself\u001b[39m._reset()  \u001b[38;5;66;03m# type: ignore[call-arg]\u001b[39;00m\n\u001b[32m--> \u001b[39m\u001b[32m733\u001b[39m data = \u001b[38;5;28;43mself\u001b[39;49m\u001b[43m.\u001b[49m\u001b[43m_next_data\u001b[49m\u001b[43m(\u001b[49m\u001b[43m)\u001b[49m\n\u001b[32m    734\u001b[39m \u001b[38;5;28mself\u001b[39m._num_yielded += \u001b[32m1\u001b[39m\n\u001b[32m    735\u001b[39m \u001b[38;5;28;01mif\u001b[39;00m (\n\u001b[32m    736\u001b[39m     \u001b[38;5;28mself\u001b[39m._dataset_kind == _DatasetKind.Iterable\n\u001b[32m    737\u001b[39m     \u001b[38;5;129;01mand\u001b[39;00m \u001b[38;5;28mself\u001b[39m._IterableDataset_len_called \u001b[38;5;129;01mis\u001b[39;00m \u001b[38;5;129;01mnot\u001b[39;00m \u001b[38;5;28;01mNone\u001b[39;00m\n\u001b[32m    738\u001b[39m     \u001b[38;5;129;01mand\u001b[39;00m \u001b[38;5;28mself\u001b[39m._num_yielded > \u001b[38;5;28mself\u001b[39m._IterableDataset_len_called\n\u001b[32m    739\u001b[39m ):\n",
            "\u001b[36mFile \u001b[39m\u001b[32m~/miniconda3/envs/DeepLearning/lib/python3.13/site-packages/torch/utils/data/dataloader.py:789\u001b[39m, in \u001b[36m_SingleProcessDataLoaderIter._next_data\u001b[39m\u001b[34m(self)\u001b[39m\n\u001b[32m    787\u001b[39m \u001b[38;5;28;01mdef\u001b[39;00m\u001b[38;5;250m \u001b[39m\u001b[34m_next_data\u001b[39m(\u001b[38;5;28mself\u001b[39m):\n\u001b[32m    788\u001b[39m     index = \u001b[38;5;28mself\u001b[39m._next_index()  \u001b[38;5;66;03m# may raise StopIteration\u001b[39;00m\n\u001b[32m--> \u001b[39m\u001b[32m789\u001b[39m     data = \u001b[38;5;28;43mself\u001b[39;49m\u001b[43m.\u001b[49m\u001b[43m_dataset_fetcher\u001b[49m\u001b[43m.\u001b[49m\u001b[43mfetch\u001b[49m\u001b[43m(\u001b[49m\u001b[43mindex\u001b[49m\u001b[43m)\u001b[49m  \u001b[38;5;66;03m# may raise StopIteration\u001b[39;00m\n\u001b[32m    790\u001b[39m     \u001b[38;5;28;01mif\u001b[39;00m \u001b[38;5;28mself\u001b[39m._pin_memory:\n\u001b[32m    791\u001b[39m         data = _utils.pin_memory.pin_memory(data, \u001b[38;5;28mself\u001b[39m._pin_memory_device)\n",
            "\u001b[36mFile \u001b[39m\u001b[32m~/miniconda3/envs/DeepLearning/lib/python3.13/site-packages/torch/utils/data/_utils/fetch.py:52\u001b[39m, in \u001b[36m_MapDatasetFetcher.fetch\u001b[39m\u001b[34m(self, possibly_batched_index)\u001b[39m\n\u001b[32m     50\u001b[39m         data = \u001b[38;5;28mself\u001b[39m.dataset.__getitems__(possibly_batched_index)\n\u001b[32m     51\u001b[39m     \u001b[38;5;28;01melse\u001b[39;00m:\n\u001b[32m---> \u001b[39m\u001b[32m52\u001b[39m         data = [\u001b[38;5;28;43mself\u001b[39;49m\u001b[43m.\u001b[49m\u001b[43mdataset\u001b[49m\u001b[43m[\u001b[49m\u001b[43midx\u001b[49m\u001b[43m]\u001b[49m \u001b[38;5;28;01mfor\u001b[39;00m idx \u001b[38;5;129;01min\u001b[39;00m possibly_batched_index]\n\u001b[32m     53\u001b[39m \u001b[38;5;28;01melse\u001b[39;00m:\n\u001b[32m     54\u001b[39m     data = \u001b[38;5;28mself\u001b[39m.dataset[possibly_batched_index]\n",
            "\u001b[36mFile \u001b[39m\u001b[32m~/Codes/Skripsi/Codes/Machine Translation Majority vote ensemble/dataset.py:27\u001b[39m, in \u001b[36mBilingualDataset.__getitem__\u001b[39m\u001b[34m(self, index)\u001b[39m\n\u001b[32m     26\u001b[39m \u001b[38;5;28;01mdef\u001b[39;00m\u001b[38;5;250m \u001b[39m\u001b[34m__getitem__\u001b[39m(\u001b[38;5;28mself\u001b[39m, index):\n\u001b[32m---> \u001b[39m\u001b[32m27\u001b[39m   src_target_pair = \u001b[38;5;28;43mself\u001b[39;49m\u001b[43m.\u001b[49m\u001b[43mds\u001b[49m\u001b[43m[\u001b[49m\u001b[43mindex\u001b[49m\u001b[43m]\u001b[49m\n\u001b[32m     28\u001b[39m   src_text = src_target_pair[\u001b[38;5;28mself\u001b[39m.src_lang]\n\u001b[32m     29\u001b[39m   tgt_text = src_target_pair[\u001b[38;5;28mself\u001b[39m.tgt_lang]\n",
            "\u001b[36mFile \u001b[39m\u001b[32m~/miniconda3/envs/DeepLearning/lib/python3.13/site-packages/torch/utils/data/dataset.py:408\u001b[39m, in \u001b[36mSubset.__getitem__\u001b[39m\u001b[34m(self, idx)\u001b[39m\n\u001b[32m    406\u001b[39m \u001b[38;5;28;01mif\u001b[39;00m \u001b[38;5;28misinstance\u001b[39m(idx, \u001b[38;5;28mlist\u001b[39m):\n\u001b[32m    407\u001b[39m     \u001b[38;5;28;01mreturn\u001b[39;00m \u001b[38;5;28mself\u001b[39m.dataset[[\u001b[38;5;28mself\u001b[39m.indices[i] \u001b[38;5;28;01mfor\u001b[39;00m i \u001b[38;5;129;01min\u001b[39;00m idx]]\n\u001b[32m--> \u001b[39m\u001b[32m408\u001b[39m \u001b[38;5;28;01mreturn\u001b[39;00m \u001b[38;5;28;43mself\u001b[39;49m\u001b[43m.\u001b[49m\u001b[43mdataset\u001b[49m\u001b[43m[\u001b[49m\u001b[38;5;28;43mself\u001b[39;49m\u001b[43m.\u001b[49m\u001b[43mindices\u001b[49m\u001b[43m[\u001b[49m\u001b[43midx\u001b[49m\u001b[43m]\u001b[49m\u001b[43m]\u001b[49m\n",
            "\u001b[36mFile \u001b[39m\u001b[32m~/miniconda3/envs/DeepLearning/lib/python3.13/site-packages/datasets/arrow_dataset.py:2859\u001b[39m, in \u001b[36mDataset.__getitem__\u001b[39m\u001b[34m(self, key)\u001b[39m\n\u001b[32m   2857\u001b[39m     \u001b[38;5;28;01mif\u001b[39;00m \u001b[38;5;28mself\u001b[39m._format_type \u001b[38;5;129;01mis\u001b[39;00m \u001b[38;5;28;01mNone\u001b[39;00m \u001b[38;5;129;01mor\u001b[39;00m \u001b[38;5;28mself\u001b[39m._format_type \u001b[38;5;129;01mnot\u001b[39;00m \u001b[38;5;129;01min\u001b[39;00m (\u001b[33m\"\u001b[39m\u001b[33marrow\u001b[39m\u001b[33m\"\u001b[39m, \u001b[33m\"\u001b[39m\u001b[33mpandas\u001b[39m\u001b[33m\"\u001b[39m, \u001b[33m\"\u001b[39m\u001b[33mpolars\u001b[39m\u001b[33m\"\u001b[39m):\n\u001b[32m   2858\u001b[39m         \u001b[38;5;28;01mreturn\u001b[39;00m Column(\u001b[38;5;28mself\u001b[39m, key)\n\u001b[32m-> \u001b[39m\u001b[32m2859\u001b[39m \u001b[38;5;28;01mreturn\u001b[39;00m \u001b[38;5;28;43mself\u001b[39;49m\u001b[43m.\u001b[49m\u001b[43m_getitem\u001b[49m\u001b[43m(\u001b[49m\u001b[43mkey\u001b[49m\u001b[43m)\u001b[49m\n",
            "\u001b[36mFile \u001b[39m\u001b[32m~/miniconda3/envs/DeepLearning/lib/python3.13/site-packages/datasets/arrow_dataset.py:2841\u001b[39m, in \u001b[36mDataset._getitem\u001b[39m\u001b[34m(self, key, **kwargs)\u001b[39m\n\u001b[32m   2839\u001b[39m formatter = get_formatter(format_type, features=\u001b[38;5;28mself\u001b[39m._info.features, **format_kwargs)\n\u001b[32m   2840\u001b[39m pa_subtable = query_table(\u001b[38;5;28mself\u001b[39m._data, key, indices=\u001b[38;5;28mself\u001b[39m._indices)\n\u001b[32m-> \u001b[39m\u001b[32m2841\u001b[39m formatted_output = \u001b[43mformat_table\u001b[49m\u001b[43m(\u001b[49m\n\u001b[32m   2842\u001b[39m \u001b[43m    \u001b[49m\u001b[43mpa_subtable\u001b[49m\u001b[43m,\u001b[49m\u001b[43m \u001b[49m\u001b[43mkey\u001b[49m\u001b[43m,\u001b[49m\u001b[43m \u001b[49m\u001b[43mformatter\u001b[49m\u001b[43m=\u001b[49m\u001b[43mformatter\u001b[49m\u001b[43m,\u001b[49m\u001b[43m \u001b[49m\u001b[43mformat_columns\u001b[49m\u001b[43m=\u001b[49m\u001b[43mformat_columns\u001b[49m\u001b[43m,\u001b[49m\u001b[43m \u001b[49m\u001b[43moutput_all_columns\u001b[49m\u001b[43m=\u001b[49m\u001b[43moutput_all_columns\u001b[49m\n\u001b[32m   2843\u001b[39m \u001b[43m\u001b[49m\u001b[43m)\u001b[49m\n\u001b[32m   2844\u001b[39m \u001b[38;5;28;01mreturn\u001b[39;00m formatted_output\n",
            "\u001b[36mFile \u001b[39m\u001b[32m~/miniconda3/envs/DeepLearning/lib/python3.13/site-packages/datasets/formatting/formatting.py:657\u001b[39m, in \u001b[36mformat_table\u001b[39m\u001b[34m(table, key, formatter, format_columns, output_all_columns)\u001b[39m\n\u001b[32m    655\u001b[39m python_formatter = PythonFormatter(features=formatter.features)\n\u001b[32m    656\u001b[39m \u001b[38;5;28;01mif\u001b[39;00m format_columns \u001b[38;5;129;01mis\u001b[39;00m \u001b[38;5;28;01mNone\u001b[39;00m:\n\u001b[32m--> \u001b[39m\u001b[32m657\u001b[39m     \u001b[38;5;28;01mreturn\u001b[39;00m \u001b[43mformatter\u001b[49m\u001b[43m(\u001b[49m\u001b[43mpa_table\u001b[49m\u001b[43m,\u001b[49m\u001b[43m \u001b[49m\u001b[43mquery_type\u001b[49m\u001b[43m=\u001b[49m\u001b[43mquery_type\u001b[49m\u001b[43m)\u001b[49m\n\u001b[32m    658\u001b[39m \u001b[38;5;28;01melif\u001b[39;00m query_type == \u001b[33m\"\u001b[39m\u001b[33mcolumn\u001b[39m\u001b[33m\"\u001b[39m:\n\u001b[32m    659\u001b[39m     \u001b[38;5;28;01mif\u001b[39;00m key \u001b[38;5;129;01min\u001b[39;00m format_columns:\n",
            "\u001b[36mFile \u001b[39m\u001b[32m~/miniconda3/envs/DeepLearning/lib/python3.13/site-packages/datasets/formatting/formatting.py:410\u001b[39m, in \u001b[36mFormatter.__call__\u001b[39m\u001b[34m(self, pa_table, query_type)\u001b[39m\n\u001b[32m    408\u001b[39m \u001b[38;5;28;01mdef\u001b[39;00m\u001b[38;5;250m \u001b[39m\u001b[34m__call__\u001b[39m(\u001b[38;5;28mself\u001b[39m, pa_table: pa.Table, query_type: \u001b[38;5;28mstr\u001b[39m) -> Union[RowFormat, ColumnFormat, BatchFormat]:\n\u001b[32m    409\u001b[39m     \u001b[38;5;28;01mif\u001b[39;00m query_type == \u001b[33m\"\u001b[39m\u001b[33mrow\u001b[39m\u001b[33m\"\u001b[39m:\n\u001b[32m--> \u001b[39m\u001b[32m410\u001b[39m         \u001b[38;5;28;01mreturn\u001b[39;00m \u001b[38;5;28;43mself\u001b[39;49m\u001b[43m.\u001b[49m\u001b[43mformat_row\u001b[49m\u001b[43m(\u001b[49m\u001b[43mpa_table\u001b[49m\u001b[43m)\u001b[49m\n\u001b[32m    411\u001b[39m     \u001b[38;5;28;01melif\u001b[39;00m query_type == \u001b[33m\"\u001b[39m\u001b[33mcolumn\u001b[39m\u001b[33m\"\u001b[39m:\n\u001b[32m    412\u001b[39m         \u001b[38;5;28;01mreturn\u001b[39;00m \u001b[38;5;28mself\u001b[39m.format_column(pa_table)\n",
            "\u001b[36mFile \u001b[39m\u001b[32m~/miniconda3/envs/DeepLearning/lib/python3.13/site-packages/datasets/formatting/formatting.py:459\u001b[39m, in \u001b[36mPythonFormatter.format_row\u001b[39m\u001b[34m(self, pa_table)\u001b[39m\n\u001b[32m    457\u001b[39m     \u001b[38;5;28;01mreturn\u001b[39;00m LazyRow(pa_table, \u001b[38;5;28mself\u001b[39m)\n\u001b[32m    458\u001b[39m row = \u001b[38;5;28mself\u001b[39m.python_arrow_extractor().extract_row(pa_table)\n\u001b[32m--> \u001b[39m\u001b[32m459\u001b[39m row = \u001b[38;5;28;43mself\u001b[39;49m\u001b[43m.\u001b[49m\u001b[43mpython_features_decoder\u001b[49m\u001b[43m.\u001b[49m\u001b[43mdecode_row\u001b[49m\u001b[43m(\u001b[49m\u001b[43mrow\u001b[49m\u001b[43m)\u001b[49m\n\u001b[32m    460\u001b[39m \u001b[38;5;28;01mreturn\u001b[39;00m row\n",
            "\u001b[36mFile \u001b[39m\u001b[32m~/miniconda3/envs/DeepLearning/lib/python3.13/site-packages/datasets/formatting/formatting.py:223\u001b[39m, in \u001b[36mPythonFeaturesDecoder.decode_row\u001b[39m\u001b[34m(self, row)\u001b[39m\n\u001b[32m    222\u001b[39m \u001b[38;5;28;01mdef\u001b[39;00m\u001b[38;5;250m \u001b[39m\u001b[34mdecode_row\u001b[39m(\u001b[38;5;28mself\u001b[39m, row: \u001b[38;5;28mdict\u001b[39m) -> \u001b[38;5;28mdict\u001b[39m:\n\u001b[32m--> \u001b[39m\u001b[32m223\u001b[39m     \u001b[38;5;28;01mreturn\u001b[39;00m \u001b[38;5;28;43mself\u001b[39;49m\u001b[43m.\u001b[49m\u001b[43mfeatures\u001b[49m\u001b[43m.\u001b[49m\u001b[43mdecode_example\u001b[49m\u001b[43m(\u001b[49m\u001b[43mrow\u001b[49m\u001b[43m,\u001b[49m\u001b[43m \u001b[49m\u001b[43mtoken_per_repo_id\u001b[49m\u001b[43m=\u001b[49m\u001b[38;5;28;43mself\u001b[39;49m\u001b[43m.\u001b[49m\u001b[43mtoken_per_repo_id\u001b[49m\u001b[43m)\u001b[49m \u001b[38;5;28;01mif\u001b[39;00m \u001b[38;5;28mself\u001b[39m.features \u001b[38;5;28;01melse\u001b[39;00m row\n",
            "\u001b[36mFile \u001b[39m\u001b[32m~/miniconda3/envs/DeepLearning/lib/python3.13/site-packages/datasets/features/features.py:2096\u001b[39m, in \u001b[36mFeatures.decode_example\u001b[39m\u001b[34m(self, example, token_per_repo_id)\u001b[39m\n\u001b[32m   2078\u001b[39m \u001b[38;5;28;01mdef\u001b[39;00m\u001b[38;5;250m \u001b[39m\u001b[34mdecode_example\u001b[39m(\u001b[38;5;28mself\u001b[39m, example: \u001b[38;5;28mdict\u001b[39m, token_per_repo_id: Optional[\u001b[38;5;28mdict\u001b[39m[\u001b[38;5;28mstr\u001b[39m, Union[\u001b[38;5;28mstr\u001b[39m, \u001b[38;5;28mbool\u001b[39m, \u001b[38;5;28;01mNone\u001b[39;00m]]] = \u001b[38;5;28;01mNone\u001b[39;00m):\n\u001b[32m   2079\u001b[39m \u001b[38;5;250m    \u001b[39m\u001b[33;03m\"\"\"Decode example with custom feature decoding.\u001b[39;00m\n\u001b[32m   2080\u001b[39m \n\u001b[32m   2081\u001b[39m \u001b[33;03m    Args:\u001b[39;00m\n\u001b[32m   (...)\u001b[39m\u001b[32m   2089\u001b[39m \u001b[33;03m        `dict[str, Any]`\u001b[39;00m\n\u001b[32m   2090\u001b[39m \u001b[33;03m    \"\"\"\u001b[39;00m\n\u001b[32m   2092\u001b[39m     \u001b[38;5;28;01mreturn\u001b[39;00m \u001b[43m{\u001b[49m\n\u001b[32m   2093\u001b[39m \u001b[43m        \u001b[49m\u001b[43mcolumn_name\u001b[49m\u001b[43m:\u001b[49m\u001b[43m \u001b[49m\u001b[43mdecode_nested_example\u001b[49m\u001b[43m(\u001b[49m\u001b[43mfeature\u001b[49m\u001b[43m,\u001b[49m\u001b[43m \u001b[49m\u001b[43mvalue\u001b[49m\u001b[43m,\u001b[49m\u001b[43m \u001b[49m\u001b[43mtoken_per_repo_id\u001b[49m\u001b[43m=\u001b[49m\u001b[43mtoken_per_repo_id\u001b[49m\u001b[43m)\u001b[49m\n\u001b[32m   2094\u001b[39m \u001b[43m        \u001b[49m\u001b[38;5;28;43;01mif\u001b[39;49;00m\u001b[43m \u001b[49m\u001b[38;5;28;43mself\u001b[39;49m\u001b[43m.\u001b[49m\u001b[43m_column_requires_decoding\u001b[49m\u001b[43m[\u001b[49m\u001b[43mcolumn_name\u001b[49m\u001b[43m]\u001b[49m\n\u001b[32m   2095\u001b[39m \u001b[43m        \u001b[49m\u001b[38;5;28;43;01melse\u001b[39;49;00m\u001b[43m \u001b[49m\u001b[43mvalue\u001b[49m\n\u001b[32m-> \u001b[39m\u001b[32m2096\u001b[39m \u001b[43m        \u001b[49m\u001b[38;5;28;43;01mfor\u001b[39;49;00m\u001b[43m \u001b[49m\u001b[43mcolumn_name\u001b[49m\u001b[43m,\u001b[49m\u001b[43m \u001b[49m\u001b[43m(\u001b[49m\u001b[43mfeature\u001b[49m\u001b[43m,\u001b[49m\u001b[43m \u001b[49m\u001b[43mvalue\u001b[49m\u001b[43m)\u001b[49m\u001b[43m \u001b[49m\u001b[38;5;129;43;01min\u001b[39;49;00m\u001b[43m \u001b[49m\u001b[43mzip_dict\u001b[49m\u001b[43m(\u001b[49m\n\u001b[32m   2097\u001b[39m \u001b[43m            \u001b[49m\u001b[43m{\u001b[49m\u001b[43mkey\u001b[49m\u001b[43m:\u001b[49m\u001b[43m \u001b[49m\u001b[43mvalue\u001b[49m\u001b[43m \u001b[49m\u001b[38;5;28;43;01mfor\u001b[39;49;00m\u001b[43m \u001b[49m\u001b[43mkey\u001b[49m\u001b[43m,\u001b[49m\u001b[43m \u001b[49m\u001b[43mvalue\u001b[49m\u001b[43m \u001b[49m\u001b[38;5;129;43;01min\u001b[39;49;00m\u001b[43m \u001b[49m\u001b[38;5;28;43mself\u001b[39;49m\u001b[43m.\u001b[49m\u001b[43mitems\u001b[49m\u001b[43m(\u001b[49m\u001b[43m)\u001b[49m\u001b[43m \u001b[49m\u001b[38;5;28;43;01mif\u001b[39;49;00m\u001b[43m \u001b[49m\u001b[43mkey\u001b[49m\u001b[43m \u001b[49m\u001b[38;5;129;43;01min\u001b[39;49;00m\u001b[43m \u001b[49m\u001b[43mexample\u001b[49m\u001b[43m}\u001b[49m\u001b[43m,\u001b[49m\u001b[43m \u001b[49m\u001b[43mexample\u001b[49m\n\u001b[32m   2098\u001b[39m \u001b[43m        \u001b[49m\u001b[43m)\u001b[49m\n\u001b[32m   2099\u001b[39m \u001b[43m    \u001b[49m\u001b[43m}\u001b[49m\n",
            "\u001b[36mFile \u001b[39m\u001b[32m~/miniconda3/envs/DeepLearning/lib/python3.13/site-packages/datasets/utils/py_utils.py:333\u001b[39m, in \u001b[36mzip_dict\u001b[39m\u001b[34m(*dicts)\u001b[39m\n\u001b[32m    331\u001b[39m \u001b[38;5;28;01mdef\u001b[39;00m\u001b[38;5;250m \u001b[39m\u001b[34mzip_dict\u001b[39m(*dicts):\n\u001b[32m    332\u001b[39m \u001b[38;5;250m    \u001b[39m\u001b[33;03m\"\"\"Iterate over items of dictionaries grouped by their keys.\"\"\"\u001b[39;00m\n\u001b[32m--> \u001b[39m\u001b[32m333\u001b[39m \u001b[43m    \u001b[49m\u001b[38;5;28;43;01mfor\u001b[39;49;00m\u001b[43m \u001b[49m\u001b[43mkey\u001b[49m\u001b[43m \u001b[49m\u001b[38;5;129;43;01min\u001b[39;49;00m\u001b[43m \u001b[49m\u001b[43munique_values\u001b[49m\u001b[43m(\u001b[49m\u001b[43mitertools\u001b[49m\u001b[43m.\u001b[49m\u001b[43mchain\u001b[49m\u001b[43m(\u001b[49m\u001b[43m*\u001b[49m\u001b[43mdicts\u001b[49m\u001b[43m)\u001b[49m\u001b[43m)\u001b[49m\u001b[43m:\u001b[49m\u001b[43m  \u001b[49m\u001b[38;5;66;43;03m# set merge all keys\u001b[39;49;00m\n\u001b[32m    334\u001b[39m \u001b[43m        \u001b[49m\u001b[38;5;66;43;03m# Will raise KeyError if the dict don't have the same keys\u001b[39;49;00m\n\u001b[32m    335\u001b[39m \u001b[43m        \u001b[49m\u001b[38;5;28;43;01myield\u001b[39;49;00m\u001b[43m \u001b[49m\u001b[43mkey\u001b[49m\u001b[43m,\u001b[49m\u001b[43m \u001b[49m\u001b[38;5;28;43mtuple\u001b[39;49m\u001b[43m(\u001b[49m\u001b[43md\u001b[49m\u001b[43m[\u001b[49m\u001b[43mkey\u001b[49m\u001b[43m]\u001b[49m\u001b[43m \u001b[49m\u001b[38;5;28;43;01mfor\u001b[39;49;00m\u001b[43m \u001b[49m\u001b[43md\u001b[49m\u001b[43m \u001b[49m\u001b[38;5;129;43;01min\u001b[39;49;00m\u001b[43m \u001b[49m\u001b[43mdicts\u001b[49m\u001b[43m)\u001b[49m\n",
            "\u001b[36mFile \u001b[39m\u001b[32m~/miniconda3/envs/DeepLearning/lib/python3.13/site-packages/datasets/utils/py_utils.py:302\u001b[39m, in \u001b[36munique_values\u001b[39m\u001b[34m(values)\u001b[39m\n\u001b[32m    300\u001b[39m \u001b[38;5;28;01mfor\u001b[39;00m value \u001b[38;5;129;01min\u001b[39;00m values:\n\u001b[32m    301\u001b[39m     \u001b[38;5;28;01mif\u001b[39;00m value \u001b[38;5;129;01mnot\u001b[39;00m \u001b[38;5;129;01min\u001b[39;00m seen:\n\u001b[32m--> \u001b[39m\u001b[32m302\u001b[39m         \u001b[43mseen\u001b[49m\u001b[43m.\u001b[49m\u001b[43madd\u001b[49m\u001b[43m(\u001b[49m\u001b[43mvalue\u001b[49m\u001b[43m)\u001b[49m\n\u001b[32m    303\u001b[39m         \u001b[38;5;28;01myield\u001b[39;00m value\n",
            "\u001b[31mKeyboardInterrupt\u001b[39m: "
          ]
        }
      ],
      "source": [
        "# if __name__ == \"__main__\":\n",
        "#   warnings.filterwarnings(\"ignore\")\n",
        "#   config = get_config()\n",
        "  # train_dataloader, val_dataloader, tokenizer_src, tokenizer_tgt = get_ds(config=config[\"model_1\"])\n",
        "#   for _, value in config.items():\n",
        "#     train_model(value, train_dataloader, val_dataloader, tokenizer_src, tokenizer_tgt)\n",
        "if __name__ == \"__main__\":\n",
        "  warnings.filterwarnings(\"ignore\")\n",
        "  config = get_config()\n",
        "  train_dataloader, val_dataloader, tokenizer_src, tokenizer_tgt = get_ds(config=config[\"model_1\"])\n",
        "  for _, value in config.items():\n",
        "    train_model(value, train_dataloader, val_dataloader, tokenizer_src, tokenizer_tgt)"
      ]
    },
    {
      "cell_type": "code",
      "execution_count": null,
      "id": "70a557df",
      "metadata": {},
      "outputs": [],
      "source": []
    },
    {
      "cell_type": "markdown",
      "id": "w61hZb3LzYV_",
      "metadata": {
        "id": "w61hZb3LzYV_"
      },
      "source": [
        "# Inference"
      ]
    },
    {
      "cell_type": "code",
      "execution_count": 4,
      "id": "ea63682b-b618-4c68-a63d-5a8f11c8ca17",
      "metadata": {
        "id": "ea63682b-b618-4c68-a63d-5a8f11c8ca17"
      },
      "outputs": [
        {
          "name": "stdout",
          "output_type": "stream",
          "text": [
            "using device :  cuda\n",
            "path tokenizer :  /home/zaens/Codes/Skripsi/Codes/Machine Translation Majority vote ensemble/tokenizer_indonesian.json\n",
            "tokenizer file ada\n",
            "path tokenizer :  /home/zaens/Codes/Skripsi/Codes/Machine Translation Majority vote ensemble/tokenizer_english.json\n",
            "tokenizer file ada\n",
            "path tokenizer :  /home/zaens/Codes/Skripsi/Codes/Machine Translation Majority vote ensemble/tokenizer_indonesian.json\n",
            "tokenizer file ada\n",
            "path tokenizer :  /home/zaens/Codes/Skripsi/Codes/Machine Translation Majority vote ensemble/tokenizer_english.json\n",
            "tokenizer file ada\n",
            "max length of source sentence 34\n",
            "max length of target sentence 34\n",
            "===================================\n",
            "Model :  model_1\n",
            "--------------------------------------------------------------------------------\n",
            "Source: pria itu tidak di atas es tetapi terjebak di jeram bergoyang eddy sekitar 250 kaki dari pantai\n",
            "Target: the man wasnt on the ice but trapped in the rapids swaying in an eddy about 250 feet from the shore\n",
            "Predicted: the man wasnt on the ice but trapped in the in a about 250 feet from the shore\n",
            "--------------------------------------------------------------------------------\n",
            "Source: diumumkan pada hari jumat bahwa goodrem telah didiagnosis menderita penyakit hodgkin suatu bentuk kanker yang mempengaruhi kelenjar getah bening\n",
            "Target: it was announced on friday that goodrem had been diagnosed with hodgkins disease a form of cancer which affects the lymph nodes\n",
            "Predicted: it was announced on friday that goodrem had been diagnosed with hodgkins disease a form of cancer which affects the\n",
            "--------------------------------------------------------------------------------\n",
            "Source: pendapatan operasi turun 45 persen menjadi 23 miliar dari tahun sebelumnya\n",
            "Target: operating revenue fell 45 percent to 23 billion from a year earlier\n",
            "Predicted: operating revenue fell 45 percent to 23 billion from a year earlier\n",
            "===================================\n",
            "Model :  model_2\n",
            "--------------------------------------------------------------------------------\n",
            "Source: pria itu tidak di atas es tetapi terjebak di jeram bergoyang eddy sekitar 250 kaki dari pantai\n",
            "Target: the man wasnt on the ice but trapped in the rapids swaying in an eddy about 250 feet from the shore\n",
            "Predicted: the man wasnt on the ice but trapped in the in the about 250 feet from the shore\n",
            "--------------------------------------------------------------------------------\n",
            "Source: diumumkan pada hari jumat bahwa goodrem telah didiagnosis menderita penyakit hodgkin suatu bentuk kanker yang mempengaruhi kelenjar getah bening\n",
            "Target: it was announced on friday that goodrem had been diagnosed with hodgkins disease a form of cancer which affects the lymph nodes\n",
            "Predicted: it was announced on friday that goodrem had been diagnosed with hodgkins disease a form of cancer which affects the\n",
            "--------------------------------------------------------------------------------\n",
            "Source: pendapatan operasi turun 45 persen menjadi 23 miliar dari tahun sebelumnya\n",
            "Target: operating revenue fell 45 percent to 23 billion from a year earlier\n",
            "Predicted: operating revenue fell 45 percent to 23 billion from a year earlier\n",
            "===================================\n",
            "Model :  model_3\n",
            "--------------------------------------------------------------------------------\n",
            "Source: pria itu tidak di atas es tetapi terjebak di jeram bergoyang eddy sekitar 250 kaki dari pantai\n",
            "Target: the man wasnt on the ice but trapped in the rapids swaying in an eddy about 250 feet from the shore\n",
            "Predicted: the man wasnt on the ice but trapped in the in an about 250 feet from the shore\n",
            "--------------------------------------------------------------------------------\n",
            "Source: diumumkan pada hari jumat bahwa goodrem telah didiagnosis menderita penyakit hodgkin suatu bentuk kanker yang mempengaruhi kelenjar getah bening\n",
            "Target: it was announced on friday that goodrem had been diagnosed with hodgkins disease a form of cancer which affects the lymph nodes\n",
            "Predicted: it was announced on friday that goodrem had been diagnosed with hodgkins disease a form of cancer which affects the\n",
            "--------------------------------------------------------------------------------\n",
            "Source: pendapatan operasi turun 45 persen menjadi 23 miliar dari tahun sebelumnya\n",
            "Target: operating revenue fell 45 percent to 23 billion from a year earlier\n",
            "Predicted: operating revenue fell 45 percent to 23 billion from a year earlier\n"
          ]
        }
      ],
      "source": [
        "device = torch.device(\"cuda\" if torch.cuda.is_available() else \"cpu\")\n",
        "print(\"using device : \", device)\n",
        "config = get_config()\n",
        "train_dataloader, val_dataloader, tokenizer_src, tokenizer_tgt = get_ds(config=config[\"model_1\"])\n",
        "models = {}\n",
        "for model_name, value in config.items():\n",
        "  print(\"===================================\")\n",
        "  print(\"Model : \", model_name)\n",
        "  model = get_model(config=value, vocab_src_len=tokenizer_src.get_vocab_size(), vocab_tgt_len=tokenizer_tgt.get_vocab_size()).to(device=device)\n",
        "  model_filename = get_weights_file_path(value, value[\"preload\"])\n",
        "  state = torch.load(model_filename)\n",
        "  model.load_state_dict(state[\"model_state_dict\"])\n",
        "  models[model_name] = model\n",
        "  run_validation(model, val_dataloader, tokenizer_src, tokenizer_tgt, value[\"seq_len\"], device, lambda msg: print(msg), 0, None, num_examples=3)\n",
        "\n",
        "# model = get_model(config=config, vocab_src_len=tokenizer_src.get_vocab_size(), vocab_tgt_len=tokenizer_tgt.get_vocab_size()).to(device=device)\n",
        "\n",
        "# model_filename = get_weights_file_path(config, f\"99\")\n",
        "# state = torch.load(model_filename)\n",
        "# model.load_state_dict(state[\"model_state_dict\"])"
      ]
    },
    {
      "cell_type": "code",
      "execution_count": 5,
      "id": "0a590558",
      "metadata": {},
      "outputs": [
        {
          "name": "stdout",
          "output_type": "stream",
          "text": [
            "path tokenizer :  /home/zaens/Codes/Skripsi/Codes/Machine Translation Majority vote ensemble/tokenizer_indonesian.json\n",
            "tokenizer file ada\n",
            "path tokenizer :  /home/zaens/Codes/Skripsi/Codes/Machine Translation Majority vote ensemble/tokenizer_english.json\n",
            "tokenizer file ada\n",
            "path tokenizer :  /home/zaens/Codes/Skripsi/Codes/Machine Translation Majority vote ensemble/tokenizer_indonesian.json\n",
            "tokenizer file ada\n",
            "path tokenizer :  /home/zaens/Codes/Skripsi/Codes/Machine Translation Majority vote ensemble/tokenizer_english.json\n",
            "tokenizer file ada\n",
            "max length of source sentence 34\n",
            "max length of target sentence 34\n",
            "===================================\n",
            "Model :  model_1\n",
            "--------------------------------------------------------------------------------\n",
            "Source: saham ahold naik 12 sen atau 23 ​​persen menjadi 535 euro di amsterdam\n",
            "Target: shares of ahold rose 12 cents or 23 percent to 535 euros in amsterdam\n",
            "Predicted: shares of ahold rose 12 cents or 23 percent to euros in amsterdam\n",
            "--------------------------------------------------------------------------------\n",
            "Source: bahkan ketika pertukaran mendeteksi pelanggaran seperti itu itu sering gagal mengambil tindakan disiplin yang tepat terhadap individu atau perusahaan\n",
            "Target: even when the exchange detected such violations it often failed to take appropriate disciplinary actions against individuals or firms\n",
            "Predicted: even when the exchange detected such violations it often failed to take appropriate disciplinary actions against individuals or firms\n",
            "--------------------------------------------------------------------------------\n",
            "Source: tarif hipotek di seluruh negeri turun lagi minggu ini tingkat kesembilan tahun ini mencapai titik terendah sepanjang masa\n",
            "Target: mortgage rates around the country fell again this week the ninth time this year rates have hit an alltime low\n",
            "Predicted: mortgage rates around the country fell again this week the ninth time this year rates have hit an alltime low\n",
            "--------------------------------------------------------------------------------\n",
            "Source: indeks standard poors 500 naik 175 poin atau 018 persen menjadi 97768\n",
            "Target: the standard poors 500 index was up 175 points or 018 percent to 97768\n",
            "Predicted: the standard poors 500 index was up 175 points or 018 percent to 97768\n",
            "--------------------------------------------------------------------------------\n",
            "Source: sersan ernest bucklew 33 pulang dari irak untuk mengubur ibunya di pennsylvania\n",
            "Target: sgt ernest bucklew 33 was coming home from iraq to bury his mother in pennsylvania\n",
            "Predicted: sgt ernest bucklew 33 was coming home from iraq to bury his mother in pennsylvania\n",
            "--------------------------------------------------------------------------------\n",
            "Source: prajurit amerika pertama kali dipilih sebagai times person of the year selama perang korea pada tahun 1950\n",
            "Target: the american soldier was first selected as times person of the year during the korean war in 1950\n",
            "Predicted: the american soldier was first selected as times person of the year during the korean war in 1950\n",
            "--------------------------------------------------------------------------------\n",
            "Source: duque tiba dengan foale dan kaleri tetapi akan kembali ke bumi dengan lu dan malenchenko\n",
            "Target: duque arrived with foale and kaleri but will return to earth with lu and malenchenko\n",
            "Predicted: duque arrived with foale and but will return to earth with lu and malenchenko\n",
            "--------------------------------------------------------------------------------\n",
            "Source: benchmark 10tahun catatan us10yt rr naik 1132 untuk hasil 325 persen\n",
            "Target: the benchmark 10year note us10ytrr rose 1132 for a yield of 325 percent\n",
            "Predicted: the benchmark 10year note us10ytrr rose 1132 for a yield of 325 percent\n",
            "--------------------------------------------------------------------------------\n",
            "Source: dia berencana untuk makan malam dengan pasukan di markas militer as kosovo camp bondsteel\n",
            "Target: he plans to have dinner with troops at kosovos us military headquarters camp bondsteel\n",
            "Predicted: he plans to have dinner with troops at us military headquarters camp bondsteel\n",
            "--------------------------------------------------------------------------------\n",
            "Source: dia telah tampil di luar kuba pada beberapa kesempatan termasuk pertunjukan di amerika serikat tahun lalu\n",
            "Target: he had performed outside of cuba on several occasions including shows in the united states last year\n",
            "Predicted: he had performed outside cuba on several occasions including shows in the united states last year\n",
            "--------------------------------------------------------------------------------\n",
            "Source: carriers cargo world airways inc dan north american airlines inc juga telah mengajukan izin terbang ke baghdad kata mosley\n",
            "Target: cargo carriers world airways inc and north american airlines inc have also applied for permission to fly to baghdad mosley said\n",
            "Predicted: world carriers world airways inc and north american airlines inc have also for permission to fly to baghdad said\n",
            "--------------------------------------------------------------------------------\n",
            "Source: kolom terakhir lacy diajukan dari rumah sakit muncul di edisi hari jumat\n",
            "Target: lacys last column filed from the hospital appeared in fridays editions\n",
            "Predicted: last column filed from the hospital appeared in fridays editions\n",
            "--------------------------------------------------------------------------------\n",
            "Source: pengadilan dan publik perlu mengetahui lebih banyak tentang penipuan terdakwa yang tampaknya besar katanya\n",
            "Target: the court and the public need to know more of the defendants seemingly massive fraud he said\n",
            "Predicted: the court and the public need to know more of the defendants seemingly massive fraud he said\n",
            "--------------------------------------------------------------------------------\n",
            "Source: data lain menunjukkan bahwa pembeli mengambil rumah baru dan yang sudah ada dengan kecepatan cepat pada bulan april didorong oleh tarif hipotek yang rendah\n",
            "Target: other data showed that buyers snapped up new and existing homes at a brisk pace in april spurred by low mortgage rates\n",
            "Predicted: other data showed that buyers up new and existing homes at a pace in april spurred by low mortgage rates\n",
            "--------------------------------------------------------------------------------\n",
            "Source: saluran sembilan pbl telah ditagih sebagai stasiun komersial paling populer di australia setelah baru baru ini mencatat 26 minggu berturut turut di atas peringkat\n",
            "Target: pbls channel nine has been billed as australias most popular commercial station after it recently recorded 26 consecutive weeks on top of the ratings\n",
            "Predicted: channel nine has been billed as australias most popular commercial station after it recently recorded 26 consecutive weeks on top of the ratings\n",
            "--------------------------------------------------------------------------------\n",
            "Source: kelompok kebebasan sipil memprotes dan hakim distrik as memutuskan bahwa monumen itu adalah promosi agama yang tidak konstitusional\n",
            "Target: civil liberties groups protested and a us district judge ruled that the monument was an unconstitutional promotion of religion\n",
            "Predicted: civil liberties groups protested and a us district judge ruled that the monument was an unconstitutional promotion of religion\n",
            "--------------------------------------------------------------------------------\n",
            "Source: taman tampaknya telah dicekik dan mungkin telah mengalami pelecehan seksual kata kapten pembunuhan charles bloom\n",
            "Target: park appeared to have been strangled and may have been sexually assaulted homicide capt charles bloom said\n",
            "Predicted: park appeared to have been strangled and may have been sexually assaulted homicide capt charles said\n",
            "--------------------------------------------------------------------------------\n",
            "Source: ellison mengatakan bahwa bertentangan dengan pertikaian manajemen peoplesoft oracle bermaksud untuk sepenuhnya mendukung pelanggan dan produk peoplesoft selama bertahun tahun yang akan datang\n",
            "Target: ellison said that contrary to the contentions of peoplesoft management oracle intends to fully support peoplesoft customers and products for many years to come\n",
            "Predicted: ellison said that contrary to the of peoplesoft management oracle intends to fully support peoplesoft customers and products for many years to come\n",
            "--------------------------------------------------------------------------------\n",
            "Source: sementara ada sekitar 700 penjaga perdamaian pbb uruguay di bunia mereka tidak dilatih atau dilengkapi untuk menangani kekerasan antaretnis kata eckhard\n",
            "Target: while there were about 700 uruguayan un peacekeepers in bunia they were neither trained nor equipped to deal with interethnic violence mr eckhard said\n",
            "Predicted: while there were about 700 un peacekeepers in bunia they were neither trained nor to deal with violence mr said\n",
            "--------------------------------------------------------------------------------\n",
            "Source: amerika serikat akhirnya mengalah selama kunjungan presiden bush ke afrika awal bulan ini\n",
            "Target: the united states finally relented during president bushs visit to africa earlier this month\n",
            "Predicted: the united states finally during president bushs visit to africa earlier this month\n",
            "===================================\n",
            "Model :  model_2\n",
            "--------------------------------------------------------------------------------\n",
            "Source: saham ahold naik 12 sen atau 23 ​​persen menjadi 535 euro di amsterdam\n",
            "Target: shares of ahold rose 12 cents or 23 percent to 535 euros in amsterdam\n",
            "Predicted: shares of ahold rose 12 cents or 23 percent to euros in amsterdam\n",
            "--------------------------------------------------------------------------------\n",
            "Source: bahkan ketika pertukaran mendeteksi pelanggaran seperti itu itu sering gagal mengambil tindakan disiplin yang tepat terhadap individu atau perusahaan\n",
            "Target: even when the exchange detected such violations it often failed to take appropriate disciplinary actions against individuals or firms\n",
            "Predicted: even when the exchange detected such violations it often failed to take appropriate disciplinary actions against individuals or firms\n",
            "--------------------------------------------------------------------------------\n",
            "Source: tarif hipotek di seluruh negeri turun lagi minggu ini tingkat kesembilan tahun ini mencapai titik terendah sepanjang masa\n",
            "Target: mortgage rates around the country fell again this week the ninth time this year rates have hit an alltime low\n",
            "Predicted: power company dropped further this week rate this points this year hitting an alltime high of the past\n",
            "--------------------------------------------------------------------------------\n",
            "Source: indeks standard poors 500 naik 175 poin atau 018 persen menjadi 97768\n",
            "Target: the standard poors 500 index was up 175 points or 018 percent to 97768\n",
            "Predicted: the standard poors 500 index was up 175 points or 018 percent to 97768\n",
            "--------------------------------------------------------------------------------\n",
            "Source: sersan ernest bucklew 33 pulang dari irak untuk mengubur ibunya di pennsylvania\n",
            "Target: sgt ernest bucklew 33 was coming home from iraq to bury his mother in pennsylvania\n",
            "Predicted: sgt ernest bucklew 33 was coming home from iraq to bury his mother in pennsylvania\n",
            "--------------------------------------------------------------------------------\n",
            "Source: prajurit amerika pertama kali dipilih sebagai times person of the year selama perang korea pada tahun 1950\n",
            "Target: the american soldier was first selected as times person of the year during the korean war in 1950\n",
            "Predicted: the first american soldier was selected as a of the year over the year during the october 2000\n",
            "--------------------------------------------------------------------------------\n",
            "Source: duque tiba dengan foale dan kaleri tetapi akan kembali ke bumi dengan lu dan malenchenko\n",
            "Target: duque arrived with foale and kaleri but will return to earth with lu and malenchenko\n",
            "Predicted: duque arrived with foale and but will return to earth with lu and malenchenko\n",
            "--------------------------------------------------------------------------------\n",
            "Source: benchmark 10tahun catatan us10yt rr naik 1132 untuk hasil 325 persen\n",
            "Target: the benchmark 10year note us10ytrr rose 1132 for a yield of 325 percent\n",
            "Predicted: the benchmark 10year note us10ytrr rose 1132 for a yield of 325 percent\n",
            "--------------------------------------------------------------------------------\n",
            "Source: dia berencana untuk makan malam dengan pasukan di markas militer as kosovo camp bondsteel\n",
            "Target: he plans to have dinner with troops at kosovos us military headquarters camp bondsteel\n",
            "Predicted: he plans to have dinner with troops in military headquarters us military headquarters panties\n",
            "--------------------------------------------------------------------------------\n",
            "Source: dia telah tampil di luar kuba pada beberapa kesempatan termasuk pertunjukan di amerika serikat tahun lalu\n",
            "Target: he had performed outside of cuba on several occasions including shows in the united states last year\n",
            "Predicted: he had performed outside of cuba on several occasions including shows in the united states last year\n",
            "--------------------------------------------------------------------------------\n",
            "Source: carriers cargo world airways inc dan north american airlines inc juga telah mengajukan izin terbang ke baghdad kata mosley\n",
            "Target: cargo carriers world airways inc and north american airlines inc have also applied for permission to fly to baghdad mosley said\n",
            "Predicted: world airways inc and north american airlines inc also have also for permission to fly to baghdad said\n",
            "--------------------------------------------------------------------------------\n",
            "Source: kolom terakhir lacy diajukan dari rumah sakit muncul di edisi hari jumat\n",
            "Target: lacys last column filed from the hospital appeared in fridays editions\n",
            "Predicted: last column filed from the hospital appeared in fridays editions\n",
            "--------------------------------------------------------------------------------\n",
            "Source: pengadilan dan publik perlu mengetahui lebih banyak tentang penipuan terdakwa yang tampaknya besar katanya\n",
            "Target: the court and the public need to know more of the defendants seemingly massive fraud he said\n",
            "Predicted: the court and the public need to know more of the defendants seemingly massive fraud he said\n",
            "--------------------------------------------------------------------------------\n",
            "Source: data lain menunjukkan bahwa pembeli mengambil rumah baru dan yang sudah ada dengan kecepatan cepat pada bulan april didorong oleh tarif hipotek yang rendah\n",
            "Target: other data showed that buyers snapped up new and existing homes at a brisk pace in april spurred by low mortgage rates\n",
            "Predicted: other data showed that buyers up new and existing homes at a pace in april spurred by low mortgage rates\n",
            "--------------------------------------------------------------------------------\n",
            "Source: saluran sembilan pbl telah ditagih sebagai stasiun komersial paling populer di australia setelah baru baru ini mencatat 26 minggu berturut turut di atas peringkat\n",
            "Target: pbls channel nine has been billed as australias most popular commercial station after it recently recorded 26 consecutive weeks on top of the ratings\n",
            "Predicted: channel nine has been billed as australias most popular commercial station after it recently recorded 26 consecutive weeks on the ratings\n",
            "--------------------------------------------------------------------------------\n",
            "Source: kelompok kebebasan sipil memprotes dan hakim distrik as memutuskan bahwa monumen itu adalah promosi agama yang tidak konstitusional\n",
            "Target: civil liberties groups protested and a us district judge ruled that the monument was an unconstitutional promotion of religion\n",
            "Predicted: civil liberties groups protested and a us district judge ruled that the monument was an unconstitutional promotion of religion\n",
            "--------------------------------------------------------------------------------\n",
            "Source: taman tampaknya telah dicekik dan mungkin telah mengalami pelecehan seksual kata kapten pembunuhan charles bloom\n",
            "Target: park appeared to have been strangled and may have been sexually assaulted homicide capt charles bloom said\n",
            "Predicted: park appeared to have been strangled and may have been sexually assaulted homicide capt charles said\n",
            "--------------------------------------------------------------------------------\n",
            "Source: ellison mengatakan bahwa bertentangan dengan pertikaian manajemen peoplesoft oracle bermaksud untuk sepenuhnya mendukung pelanggan dan produk peoplesoft selama bertahun tahun yang akan datang\n",
            "Target: ellison said that contrary to the contentions of peoplesoft management oracle intends to fully support peoplesoft customers and products for many years to come\n",
            "Predicted: ellison said that contrary to the of peoplesoft management oracle intends to fully support peoplesoft customers and products for many years to come\n",
            "--------------------------------------------------------------------------------\n",
            "Source: sementara ada sekitar 700 penjaga perdamaian pbb uruguay di bunia mereka tidak dilatih atau dilengkapi untuk menangani kekerasan antaretnis kata eckhard\n",
            "Target: while there were about 700 uruguayan un peacekeepers in bunia they were neither trained nor equipped to deal with interethnic violence mr eckhard said\n",
            "Predicted: while there were about 700 un peacekeepers in bunia they were neither trained nor to deal with violence mr said\n",
            "--------------------------------------------------------------------------------\n",
            "Source: amerika serikat akhirnya mengalah selama kunjungan presiden bush ke afrika awal bulan ini\n",
            "Target: the united states finally relented during president bushs visit to africa earlier this month\n",
            "Predicted: the united states finally during president bush discussed to africa earlier this month\n",
            "===================================\n",
            "Model :  model_3\n",
            "--------------------------------------------------------------------------------\n",
            "Source: saham ahold naik 12 sen atau 23 ​​persen menjadi 535 euro di amsterdam\n",
            "Target: shares of ahold rose 12 cents or 23 percent to 535 euros in amsterdam\n",
            "Predicted: shares of ahold rose 12 cents or 23 percent to euros in amsterdam\n",
            "--------------------------------------------------------------------------------\n",
            "Source: bahkan ketika pertukaran mendeteksi pelanggaran seperti itu itu sering gagal mengambil tindakan disiplin yang tepat terhadap individu atau perusahaan\n",
            "Target: even when the exchange detected such violations it often failed to take appropriate disciplinary actions against individuals or firms\n",
            "Predicted: even when the exchange detected such violations it often failed to take appropriate disciplinary actions against individuals or firms\n",
            "--------------------------------------------------------------------------------\n",
            "Source: tarif hipotek di seluruh negeri turun lagi minggu ini tingkat kesembilan tahun ini mencapai titik terendah sepanjang masa\n",
            "Target: mortgage rates around the country fell again this week the ninth time this year rates have hit an alltime low\n",
            "Predicted: mortgage rates off more than this week rate of the ninth level reach an alltime high levels\n",
            "--------------------------------------------------------------------------------\n",
            "Source: indeks standard poors 500 naik 175 poin atau 018 persen menjadi 97768\n",
            "Target: the standard poors 500 index was up 175 points or 018 percent to 97768\n",
            "Predicted: the standard poors 500 index was up 175 points or 018 percent to 97768\n",
            "--------------------------------------------------------------------------------\n",
            "Source: sersan ernest bucklew 33 pulang dari irak untuk mengubur ibunya di pennsylvania\n",
            "Target: sgt ernest bucklew 33 was coming home from iraq to bury his mother in pennsylvania\n",
            "Predicted: sgt ernest bucklew 33 was coming home from iraq to bury his mother in pennsylvania\n",
            "--------------------------------------------------------------------------------\n",
            "Source: prajurit amerika pertama kali dipilih sebagai times person of the year selama perang korea pada tahun 1950\n",
            "Target: the american soldier was first selected as times person of the year during the korean war in 1950\n",
            "Predicted: the american soldier was selected was selected in the of the year during the south korea which ship\n",
            "--------------------------------------------------------------------------------\n",
            "Source: duque tiba dengan foale dan kaleri tetapi akan kembali ke bumi dengan lu dan malenchenko\n",
            "Target: duque arrived with foale and kaleri but will return to earth with lu and malenchenko\n",
            "Predicted: duque arrived with foale and but will return to earth with lu and malenchenko\n",
            "--------------------------------------------------------------------------------\n",
            "Source: benchmark 10tahun catatan us10yt rr naik 1132 untuk hasil 325 persen\n",
            "Target: the benchmark 10year note us10ytrr rose 1132 for a yield of 325 percent\n",
            "Predicted: the benchmark 10year note us10ytrr rose 1132 for a yield of 325 percent\n",
            "--------------------------------------------------------------------------------\n",
            "Source: dia berencana untuk makan malam dengan pasukan di markas militer as kosovo camp bondsteel\n",
            "Target: he plans to have dinner with troops at kosovos us military headquarters camp bondsteel\n",
            "Predicted: he plans to have dinner with troops in the us military headquarters of camp bondsteel\n",
            "--------------------------------------------------------------------------------\n",
            "Source: dia telah tampil di luar kuba pada beberapa kesempatan termasuk pertunjukan di amerika serikat tahun lalu\n",
            "Target: he had performed outside of cuba on several occasions including shows in the united states last year\n",
            "Predicted: he had performed outside of cuba on several occasions including shows in the united states last year\n",
            "--------------------------------------------------------------------------------\n",
            "Source: carriers cargo world airways inc dan north american airlines inc juga telah mengajukan izin terbang ke baghdad kata mosley\n",
            "Target: cargo carriers world airways inc and north american airlines inc have also applied for permission to fly to baghdad mosley said\n",
            "Predicted: world cargo airways inc and north american airlines inc also inc have for permission to fly to baghdad said\n",
            "--------------------------------------------------------------------------------\n",
            "Source: kolom terakhir lacy diajukan dari rumah sakit muncul di edisi hari jumat\n",
            "Target: lacys last column filed from the hospital appeared in fridays editions\n",
            "Predicted: last column filed from the hospital appeared in fridays editions\n",
            "--------------------------------------------------------------------------------\n",
            "Source: pengadilan dan publik perlu mengetahui lebih banyak tentang penipuan terdakwa yang tampaknya besar katanya\n",
            "Target: the court and the public need to know more of the defendants seemingly massive fraud he said\n",
            "Predicted: the court and the public need to know more of the defendants seemingly massive fraud he said\n",
            "--------------------------------------------------------------------------------\n",
            "Source: data lain menunjukkan bahwa pembeli mengambil rumah baru dan yang sudah ada dengan kecepatan cepat pada bulan april didorong oleh tarif hipotek yang rendah\n",
            "Target: other data showed that buyers snapped up new and existing homes at a brisk pace in april spurred by low mortgage rates\n",
            "Predicted: other data showed that buyers up new and existing homes at a pace in april spurred by low mortgage rates\n",
            "--------------------------------------------------------------------------------\n",
            "Source: saluran sembilan pbl telah ditagih sebagai stasiun komersial paling populer di australia setelah baru baru ini mencatat 26 minggu berturut turut di atas peringkat\n",
            "Target: pbls channel nine has been billed as australias most popular commercial station after it recently recorded 26 consecutive weeks on top of the ratings\n",
            "Predicted: channel nine has been billed as australias most popular commercial station after it recently recorded 26 consecutive weeks on top of the ratings\n",
            "--------------------------------------------------------------------------------\n",
            "Source: kelompok kebebasan sipil memprotes dan hakim distrik as memutuskan bahwa monumen itu adalah promosi agama yang tidak konstitusional\n",
            "Target: civil liberties groups protested and a us district judge ruled that the monument was an unconstitutional promotion of religion\n",
            "Predicted: civil liberties groups protested and a us district judge ruled that the monument was an unconstitutional promotion of religion\n",
            "--------------------------------------------------------------------------------\n",
            "Source: taman tampaknya telah dicekik dan mungkin telah mengalami pelecehan seksual kata kapten pembunuhan charles bloom\n",
            "Target: park appeared to have been strangled and may have been sexually assaulted homicide capt charles bloom said\n",
            "Predicted: park appeared to have been strangled and may have been sexually assaulted homicide capt charles said\n",
            "--------------------------------------------------------------------------------\n",
            "Source: ellison mengatakan bahwa bertentangan dengan pertikaian manajemen peoplesoft oracle bermaksud untuk sepenuhnya mendukung pelanggan dan produk peoplesoft selama bertahun tahun yang akan datang\n",
            "Target: ellison said that contrary to the contentions of peoplesoft management oracle intends to fully support peoplesoft customers and products for many years to come\n",
            "Predicted: ellison said that contrary to the of peoplesoft management oracle intends to fully support peoplesoft customers and products for many years to come\n",
            "--------------------------------------------------------------------------------\n",
            "Source: sementara ada sekitar 700 penjaga perdamaian pbb uruguay di bunia mereka tidak dilatih atau dilengkapi untuk menangani kekerasan antaretnis kata eckhard\n",
            "Target: while there were about 700 uruguayan un peacekeepers in bunia they were neither trained nor equipped to deal with interethnic violence mr eckhard said\n",
            "Predicted: while there were about 700 un peacekeepers in bunia they were neither trained nor to deal with violence mr said\n",
            "--------------------------------------------------------------------------------\n",
            "Source: amerika serikat akhirnya mengalah selama kunjungan presiden bush ke afrika awal bulan ini\n",
            "Target: the united states finally relented during president bushs visit to africa earlier this month\n",
            "Predicted: the united states finally during president bushs visit to africa earlier this month\n"
          ]
        }
      ],
      "source": [
        "test = [\n",
        "    (\"saya suka kamu\", \"i like you\"),\n",
        "    (\"saya tidak suka kamu\", \"i don't like you\"),\n",
        "    (\"saya sangat suka kamu\", \"i really like you\"),\n",
        "    (\"saya sangat tidak suka kamu\", \"i really don't like you\"),\n",
        "    (\"saya sangat sangat suka kamu\", \"i really really like you\"),\n",
        "    (\"saya sangat sangat tidak suka kamu\", \"i really really don't like you\"),\n",
        "    (\"saya sangat sangat sangat suka kamu\", \"i really really really like you\"),\n",
        "    (\"saya sangat sangat sangat tidak suka kamu\", \"i really really really don't like you\"),\n",
        "]\n",
        "\n",
        "train_dataloader, val_dataloader, tokenizer_src, tokenizer_tgt = get_ds(config=config[\"model_1\"])\n",
        "# src_ids = tokenizer_src.encode(\"saya sedang memancing di taman\").ids\n",
        "# print(\"src_ids : \", src_ids)\n",
        "results = {\n",
        "  \"src_text\" : [],\n",
        "  \"expected\" : [],\n",
        "  \"model_1\" : [],\n",
        "  \"model_2\" : [],\n",
        "  \"model_3\" : [],\n",
        "  \"majority_vote\" : [],\n",
        "}\n",
        "\n",
        "for model_name, model in models.items():\n",
        "  print(\"===================================\")\n",
        "  print(\"Model : \", model_name)\n",
        "  src_text, expected, predicted = majority_vote(model, val_dataloader, tokenizer_src, tokenizer_tgt, config[\"model_1\"][\"seq_len\"], device, lambda msg: print(msg), 0, None, num_examples=20)\n",
        "  if model_name == \"model_1\":\n",
        "    results[\"expected\"].append(expected)\n",
        "    results[\"src_text\"].append(src_text)\n",
        "  results[model_name].append(predicted)"
      ]
    },
    {
      "cell_type": "code",
      "execution_count": 6,
      "id": "56d2fb5d",
      "metadata": {},
      "outputs": [
        {
          "name": "stdout",
          "output_type": "stream",
          "text": [
            "[['saham ahold naik 12 sen atau 23 \\u200b\\u200bpersen menjadi 535 euro di amsterdam', 'bahkan ketika pertukaran mendeteksi pelanggaran seperti itu itu sering gagal mengambil tindakan disiplin yang tepat terhadap individu atau perusahaan', 'tarif hipotek di seluruh negeri turun lagi minggu ini tingkat kesembilan tahun ini mencapai titik terendah sepanjang masa', 'indeks standard poors 500 naik 175 poin atau 018 persen menjadi 97768', 'sersan ernest bucklew 33 pulang dari irak untuk mengubur ibunya di pennsylvania', 'prajurit amerika pertama kali dipilih sebagai times person of the year selama perang korea pada tahun 1950', 'duque tiba dengan foale dan kaleri tetapi akan kembali ke bumi dengan lu dan malenchenko', 'benchmark 10tahun catatan us10yt rr naik 1132 untuk hasil 325 persen', 'dia berencana untuk makan malam dengan pasukan di markas militer as kosovo camp bondsteel', 'dia telah tampil di luar kuba pada beberapa kesempatan termasuk pertunjukan di amerika serikat tahun lalu', 'carriers cargo world airways inc dan north american airlines inc juga telah mengajukan izin terbang ke baghdad kata mosley', 'kolom terakhir lacy diajukan dari rumah sakit muncul di edisi hari jumat', 'pengadilan dan publik perlu mengetahui lebih banyak tentang penipuan terdakwa yang tampaknya besar katanya', 'data lain menunjukkan bahwa pembeli mengambil rumah baru dan yang sudah ada dengan kecepatan cepat pada bulan april didorong oleh tarif hipotek yang rendah', 'saluran sembilan pbl telah ditagih sebagai stasiun komersial paling populer di australia setelah baru baru ini mencatat 26 minggu berturut turut di atas peringkat', 'kelompok kebebasan sipil memprotes dan hakim distrik as memutuskan bahwa monumen itu adalah promosi agama yang tidak konstitusional', 'taman tampaknya telah dicekik dan mungkin telah mengalami pelecehan seksual kata kapten pembunuhan charles bloom', 'ellison mengatakan bahwa bertentangan dengan pertikaian manajemen peoplesoft oracle bermaksud untuk sepenuhnya mendukung pelanggan dan produk peoplesoft selama bertahun tahun yang akan datang', 'sementara ada sekitar 700 penjaga perdamaian pbb uruguay di bunia mereka tidak dilatih atau dilengkapi untuk menangani kekerasan antaretnis kata eckhard', 'amerika serikat akhirnya mengalah selama kunjungan presiden bush ke afrika awal bulan ini']]\n",
            "[['shares of ahold rose 12 cents or 23 percent to 535 euros in amsterdam', 'even when the exchange detected such violations it often failed to take appropriate disciplinary actions against individuals or firms', 'mortgage rates around the country fell again this week the ninth time this year rates have hit an alltime low', 'the standard poors 500 index was up 175 points or 018 percent to 97768', 'sgt ernest bucklew 33 was coming home from iraq to bury his mother in pennsylvania', 'the american soldier was first selected as times person of the year during the korean war in 1950', 'duque arrived with foale and kaleri but will return to earth with lu and malenchenko', 'the benchmark 10year note us10ytrr rose 1132 for a yield of 325 percent', 'he plans to have dinner with troops at kosovos us military headquarters camp bondsteel', 'he had performed outside of cuba on several occasions including shows in the united states last year', 'cargo carriers world airways inc and north american airlines inc have also applied for permission to fly to baghdad mosley said', 'lacys last column filed from the hospital appeared in fridays editions', 'the court and the public need to know more of the defendants seemingly massive fraud he said', 'other data showed that buyers snapped up new and existing homes at a brisk pace in april spurred by low mortgage rates', 'pbls channel nine has been billed as australias most popular commercial station after it recently recorded 26 consecutive weeks on top of the ratings', 'civil liberties groups protested and a us district judge ruled that the monument was an unconstitutional promotion of religion', 'park appeared to have been strangled and may have been sexually assaulted homicide capt charles bloom said', 'ellison said that contrary to the contentions of peoplesoft management oracle intends to fully support peoplesoft customers and products for many years to come', 'while there were about 700 uruguayan un peacekeepers in bunia they were neither trained nor equipped to deal with interethnic violence mr eckhard said', 'the united states finally relented during president bushs visit to africa earlier this month']]\n",
            "[['shares of ahold rose 12 cents or 23 percent to euros in amsterdam', 'even when the exchange detected such violations it often failed to take appropriate disciplinary actions against individuals or firms', 'mortgage rates around the country fell again this week the ninth time this year rates have hit an alltime low', 'the standard poors 500 index was up 175 points or 018 percent to 97768', 'sgt ernest bucklew 33 was coming home from iraq to bury his mother in pennsylvania', 'the american soldier was first selected as times person of the year during the korean war in 1950', 'duque arrived with foale and but will return to earth with lu and malenchenko', 'the benchmark 10year note us10ytrr rose 1132 for a yield of 325 percent', 'he plans to have dinner with troops at us military headquarters camp bondsteel', 'he had performed outside cuba on several occasions including shows in the united states last year', 'world carriers world airways inc and north american airlines inc have also for permission to fly to baghdad said', 'last column filed from the hospital appeared in fridays editions', 'the court and the public need to know more of the defendants seemingly massive fraud he said', 'other data showed that buyers up new and existing homes at a pace in april spurred by low mortgage rates', 'channel nine has been billed as australias most popular commercial station after it recently recorded 26 consecutive weeks on top of the ratings', 'civil liberties groups protested and a us district judge ruled that the monument was an unconstitutional promotion of religion', 'park appeared to have been strangled and may have been sexually assaulted homicide capt charles said', 'ellison said that contrary to the of peoplesoft management oracle intends to fully support peoplesoft customers and products for many years to come', 'while there were about 700 un peacekeepers in bunia they were neither trained nor to deal with violence mr said', 'the united states finally during president bushs visit to africa earlier this month']]\n",
            "[['shares of ahold rose 12 cents or 23 percent to euros in amsterdam', 'even when the exchange detected such violations it often failed to take appropriate disciplinary actions against individuals or firms', 'power company dropped further this week rate this points this year hitting an alltime high of the past', 'the standard poors 500 index was up 175 points or 018 percent to 97768', 'sgt ernest bucklew 33 was coming home from iraq to bury his mother in pennsylvania', 'the first american soldier was selected as a of the year over the year during the october 2000', 'duque arrived with foale and but will return to earth with lu and malenchenko', 'the benchmark 10year note us10ytrr rose 1132 for a yield of 325 percent', 'he plans to have dinner with troops in military headquarters us military headquarters panties', 'he had performed outside of cuba on several occasions including shows in the united states last year', 'world airways inc and north american airlines inc also have also for permission to fly to baghdad said', 'last column filed from the hospital appeared in fridays editions', 'the court and the public need to know more of the defendants seemingly massive fraud he said', 'other data showed that buyers up new and existing homes at a pace in april spurred by low mortgage rates', 'channel nine has been billed as australias most popular commercial station after it recently recorded 26 consecutive weeks on the ratings', 'civil liberties groups protested and a us district judge ruled that the monument was an unconstitutional promotion of religion', 'park appeared to have been strangled and may have been sexually assaulted homicide capt charles said', 'ellison said that contrary to the of peoplesoft management oracle intends to fully support peoplesoft customers and products for many years to come', 'while there were about 700 un peacekeepers in bunia they were neither trained nor to deal with violence mr said', 'the united states finally during president bush discussed to africa earlier this month']]\n",
            "[['shares of ahold rose 12 cents or 23 percent to euros in amsterdam', 'even when the exchange detected such violations it often failed to take appropriate disciplinary actions against individuals or firms', 'mortgage rates off more than this week rate of the ninth level reach an alltime high levels', 'the standard poors 500 index was up 175 points or 018 percent to 97768', 'sgt ernest bucklew 33 was coming home from iraq to bury his mother in pennsylvania', 'the american soldier was selected was selected in the of the year during the south korea which ship', 'duque arrived with foale and but will return to earth with lu and malenchenko', 'the benchmark 10year note us10ytrr rose 1132 for a yield of 325 percent', 'he plans to have dinner with troops in the us military headquarters of camp bondsteel', 'he had performed outside of cuba on several occasions including shows in the united states last year', 'world cargo airways inc and north american airlines inc also inc have for permission to fly to baghdad said', 'last column filed from the hospital appeared in fridays editions', 'the court and the public need to know more of the defendants seemingly massive fraud he said', 'other data showed that buyers up new and existing homes at a pace in april spurred by low mortgage rates', 'channel nine has been billed as australias most popular commercial station after it recently recorded 26 consecutive weeks on top of the ratings', 'civil liberties groups protested and a us district judge ruled that the monument was an unconstitutional promotion of religion', 'park appeared to have been strangled and may have been sexually assaulted homicide capt charles said', 'ellison said that contrary to the of peoplesoft management oracle intends to fully support peoplesoft customers and products for many years to come', 'while there were about 700 un peacekeepers in bunia they were neither trained nor to deal with violence mr said', 'the united states finally during president bushs visit to africa earlier this month']]\n"
          ]
        }
      ],
      "source": [
        "print(results[\"src_text\"][:5])\n",
        "print(results[\"expected\"][:5])\n",
        "print(results[\"model_1\"][:5])\n",
        "print(results[\"model_2\"][:5])\n",
        "print(results[\"model_3\"][:5])"
      ]
    },
    {
      "cell_type": "code",
      "execution_count": 7,
      "id": "6be64dcc",
      "metadata": {},
      "outputs": [
        {
          "name": "stdout",
          "output_type": "stream",
          "text": [
            "20\n",
            "20\n",
            "20\n",
            "20\n",
            "20\n"
          ]
        }
      ],
      "source": [
        "print(len(results[\"src_text\"][0]))\n",
        "print(len(results[\"expected\"][0]))\n",
        "print(len(results[\"model_1\"][0]))\n",
        "print(len(results[\"model_2\"][0]))\n",
        "print(len(results[\"model_3\"][0]))\n"
      ]
    },
    {
      "cell_type": "code",
      "execution_count": 8,
      "id": "904eaaab",
      "metadata": {},
      "outputs": [
        {
          "name": "stdout",
          "output_type": "stream",
          "text": [
            "===================================\n",
            "model_1 : \n",
            "shares of ahold rose 12 cents or 23 percent to euros in amsterdam\n",
            "model_2 : \n",
            "shares of ahold rose 12 cents or 23 percent to euros in amsterdam\n",
            "model_3 : \n",
            "shares of ahold rose 12 cents or 23 percent to euros in amsterdam\n",
            "expected : \n",
            "shares of ahold rose 12 cents or 23 percent to 535 euros in amsterdam\n",
            "Majority vote : \n",
            "shares of ahold rose 12 cents or 23 percent to euros in amsterdam\n",
            "===================================\n",
            "model_1 : \n",
            "even when the exchange detected such violations it often failed to take appropriate disciplinary actions against individuals or firms\n",
            "model_2 : \n",
            "even when the exchange detected such violations it often failed to take appropriate disciplinary actions against individuals or firms\n",
            "model_3 : \n",
            "even when the exchange detected such violations it often failed to take appropriate disciplinary actions against individuals or firms\n",
            "expected : \n",
            "even when the exchange detected such violations it often failed to take appropriate disciplinary actions against individuals or firms\n",
            "Majority vote : \n",
            "even when the exchange detected such violations it often failed to take appropriate disciplinary actions against individuals or firms\n",
            "===================================\n",
            "model_1 : \n",
            "mortgage rates around the country fell again this week the ninth time this year rates have hit an alltime low\n",
            "model_2 : \n",
            "power company dropped further this week rate this points this year hitting an alltime high of the past\n",
            "model_3 : \n",
            "mortgage rates off more than this week rate of the ninth level reach an alltime high levels\n",
            "expected : \n",
            "mortgage rates around the country fell again this week the ninth time this year rates have hit an alltime low\n",
            "Majority vote : \n",
            "mortgage rates dropped further than fell rate this week the ninth hitting reach an high high hit an alltime low\n",
            "===================================\n",
            "model_1 : \n",
            "the standard poors 500 index was up 175 points or 018 percent to 97768\n",
            "model_2 : \n",
            "the standard poors 500 index was up 175 points or 018 percent to 97768\n",
            "model_3 : \n",
            "the standard poors 500 index was up 175 points or 018 percent to 97768\n",
            "expected : \n",
            "the standard poors 500 index was up 175 points or 018 percent to 97768\n",
            "Majority vote : \n",
            "the standard poors 500 index was up 175 points or 018 percent to 97768\n",
            "===================================\n",
            "model_1 : \n",
            "sgt ernest bucklew 33 was coming home from iraq to bury his mother in pennsylvania\n",
            "model_2 : \n",
            "sgt ernest bucklew 33 was coming home from iraq to bury his mother in pennsylvania\n",
            "model_3 : \n",
            "sgt ernest bucklew 33 was coming home from iraq to bury his mother in pennsylvania\n",
            "expected : \n",
            "sgt ernest bucklew 33 was coming home from iraq to bury his mother in pennsylvania\n",
            "Majority vote : \n",
            "sgt ernest bucklew 33 was coming home from iraq to bury his mother in pennsylvania\n",
            "===================================\n",
            "model_1 : \n",
            "the american soldier was first selected as times person of the year during the korean war in 1950\n",
            "model_2 : \n",
            "the first american soldier was selected as a of the year over the year during the october 2000\n",
            "model_3 : \n",
            "the american soldier was selected was selected in the of the year during the south korea which ship\n",
            "expected : \n",
            "the american soldier was first selected as times person of the year during the korean war in 1950\n",
            "Majority vote : \n",
            "the american soldier was selected selected as times person of the year during the korean korea october 1950\n",
            "===================================\n",
            "model_1 : \n",
            "duque arrived with foale and but will return to earth with lu and malenchenko\n",
            "model_2 : \n",
            "duque arrived with foale and but will return to earth with lu and malenchenko\n",
            "model_3 : \n",
            "duque arrived with foale and but will return to earth with lu and malenchenko\n",
            "expected : \n",
            "duque arrived with foale and kaleri but will return to earth with lu and malenchenko\n",
            "Majority vote : \n",
            "duque arrived with foale and but will return to earth with lu and malenchenko\n",
            "===================================\n",
            "model_1 : \n",
            "the benchmark 10year note us10ytrr rose 1132 for a yield of 325 percent\n",
            "model_2 : \n",
            "the benchmark 10year note us10ytrr rose 1132 for a yield of 325 percent\n",
            "model_3 : \n",
            "the benchmark 10year note us10ytrr rose 1132 for a yield of 325 percent\n",
            "expected : \n",
            "the benchmark 10year note us10ytrr rose 1132 for a yield of 325 percent\n",
            "Majority vote : \n",
            "the benchmark 10year note us10ytrr rose 1132 for a yield of 325 percent\n",
            "===================================\n",
            "model_1 : \n",
            "he plans to have dinner with troops at us military headquarters camp bondsteel\n",
            "model_2 : \n",
            "he plans to have dinner with troops in military headquarters us military headquarters panties\n",
            "model_3 : \n",
            "he plans to have dinner with troops in the us military headquarters of camp bondsteel\n",
            "expected : \n",
            "he plans to have dinner with troops at kosovos us military headquarters camp bondsteel\n",
            "Majority vote : \n",
            "he plans to have dinner with troops in us us us headquarters of panties bondsteel\n",
            "===================================\n",
            "model_1 : \n",
            "he had performed outside cuba on several occasions including shows in the united states last year\n",
            "model_2 : \n",
            "he had performed outside of cuba on several occasions including shows in the united states last year\n",
            "model_3 : \n",
            "he had performed outside of cuba on several occasions including shows in the united states last year\n",
            "expected : \n",
            "he had performed outside of cuba on several occasions including shows in the united states last year\n",
            "Majority vote : \n",
            "he had performed outside of cuba on several occasions including shows in the united states last year\n",
            "===================================\n",
            "model_1 : \n",
            "world carriers world airways inc and north american airlines inc have also for permission to fly to baghdad said\n",
            "model_2 : \n",
            "world airways inc and north american airlines inc also have also for permission to fly to baghdad said\n",
            "model_3 : \n",
            "world cargo airways inc and north american airlines inc also inc have for permission to fly to baghdad said\n",
            "expected : \n",
            "cargo carriers world airways inc and north american airlines inc have also applied for permission to fly to baghdad mosley said\n",
            "Majority vote : \n",
            "world carriers inc inc inc american american american inc inc inc for for permission to fly to baghdad said\n",
            "===================================\n",
            "model_1 : \n",
            "last column filed from the hospital appeared in fridays editions\n",
            "model_2 : \n",
            "last column filed from the hospital appeared in fridays editions\n",
            "model_3 : \n",
            "last column filed from the hospital appeared in fridays editions\n",
            "expected : \n",
            "lacys last column filed from the hospital appeared in fridays editions\n",
            "Majority vote : \n",
            "last column filed from the hospital appeared in fridays editions\n",
            "===================================\n",
            "model_1 : \n",
            "the court and the public need to know more of the defendants seemingly massive fraud he said\n",
            "model_2 : \n",
            "the court and the public need to know more of the defendants seemingly massive fraud he said\n",
            "model_3 : \n",
            "the court and the public need to know more of the defendants seemingly massive fraud he said\n",
            "expected : \n",
            "the court and the public need to know more of the defendants seemingly massive fraud he said\n",
            "Majority vote : \n",
            "the court and the public need to know more of the defendants seemingly massive fraud he said\n",
            "===================================\n",
            "model_1 : \n",
            "other data showed that buyers up new and existing homes at a pace in april spurred by low mortgage rates\n",
            "model_2 : \n",
            "other data showed that buyers up new and existing homes at a pace in april spurred by low mortgage rates\n",
            "model_3 : \n",
            "other data showed that buyers up new and existing homes at a pace in april spurred by low mortgage rates\n",
            "expected : \n",
            "other data showed that buyers snapped up new and existing homes at a brisk pace in april spurred by low mortgage rates\n",
            "Majority vote : \n",
            "other data showed that buyers up new and existing homes at a pace in april spurred by low mortgage rates\n",
            "===================================\n",
            "model_1 : \n",
            "channel nine has been billed as australias most popular commercial station after it recently recorded 26 consecutive weeks on top of the ratings\n",
            "model_2 : \n",
            "channel nine has been billed as australias most popular commercial station after it recently recorded 26 consecutive weeks on the ratings\n",
            "model_3 : \n",
            "channel nine has been billed as australias most popular commercial station after it recently recorded 26 consecutive weeks on top of the ratings\n",
            "expected : \n",
            "pbls channel nine has been billed as australias most popular commercial station after it recently recorded 26 consecutive weeks on top of the ratings\n",
            "Majority vote : \n",
            "channel nine has been billed as australias most popular commercial station after it recently recorded 26 consecutive weeks on top of the ratings\n",
            "===================================\n",
            "model_1 : \n",
            "civil liberties groups protested and a us district judge ruled that the monument was an unconstitutional promotion of religion\n",
            "model_2 : \n",
            "civil liberties groups protested and a us district judge ruled that the monument was an unconstitutional promotion of religion\n",
            "model_3 : \n",
            "civil liberties groups protested and a us district judge ruled that the monument was an unconstitutional promotion of religion\n",
            "expected : \n",
            "civil liberties groups protested and a us district judge ruled that the monument was an unconstitutional promotion of religion\n",
            "Majority vote : \n",
            "civil liberties groups protested and a us district judge ruled that the monument was an unconstitutional promotion of religion\n",
            "===================================\n",
            "model_1 : \n",
            "park appeared to have been strangled and may have been sexually assaulted homicide capt charles said\n",
            "model_2 : \n",
            "park appeared to have been strangled and may have been sexually assaulted homicide capt charles said\n",
            "model_3 : \n",
            "park appeared to have been strangled and may have been sexually assaulted homicide capt charles said\n",
            "expected : \n",
            "park appeared to have been strangled and may have been sexually assaulted homicide capt charles bloom said\n",
            "Majority vote : \n",
            "park appeared to have been strangled and may have been sexually assaulted homicide capt charles said\n",
            "===================================\n",
            "model_1 : \n",
            "ellison said that contrary to the of peoplesoft management oracle intends to fully support peoplesoft customers and products for many years to come\n",
            "model_2 : \n",
            "ellison said that contrary to the of peoplesoft management oracle intends to fully support peoplesoft customers and products for many years to come\n",
            "model_3 : \n",
            "ellison said that contrary to the of peoplesoft management oracle intends to fully support peoplesoft customers and products for many years to come\n",
            "expected : \n",
            "ellison said that contrary to the contentions of peoplesoft management oracle intends to fully support peoplesoft customers and products for many years to come\n",
            "Majority vote : \n",
            "ellison said that contrary to the of peoplesoft management oracle intends to fully support peoplesoft customers and products for many years to come\n",
            "===================================\n",
            "model_1 : \n",
            "while there were about 700 un peacekeepers in bunia they were neither trained nor to deal with violence mr said\n",
            "model_2 : \n",
            "while there were about 700 un peacekeepers in bunia they were neither trained nor to deal with violence mr said\n",
            "model_3 : \n",
            "while there were about 700 un peacekeepers in bunia they were neither trained nor to deal with violence mr said\n",
            "expected : \n",
            "while there were about 700 uruguayan un peacekeepers in bunia they were neither trained nor equipped to deal with interethnic violence mr eckhard said\n",
            "Majority vote : \n",
            "while there were about 700 un peacekeepers in bunia they were neither trained nor to deal with violence mr said\n",
            "===================================\n",
            "model_1 : \n",
            "the united states finally during president bushs visit to africa earlier this month\n",
            "model_2 : \n",
            "the united states finally during president bush discussed to africa earlier this month\n",
            "model_3 : \n",
            "the united states finally during president bushs visit to africa earlier this month\n",
            "expected : \n",
            "the united states finally relented during president bushs visit to africa earlier this month\n",
            "Majority vote : \n",
            "the united states finally during president bushs visit to africa earlier this month\n"
          ]
        }
      ],
      "source": [
        "for text_idx in range(len(results[\"src_text\"][0])):\n",
        "  print(\"===================================\")\n",
        "  # print(\"Source : \", results[\"src_text\"][i])\n",
        "  # print(\"Expected : \", results[\"expected\"][i])\n",
        "  \n",
        "  # for model_name in [\"model_1\", \"model_2\", \"model_3\"]:\n",
        "  #   print(f\"{model_name} : \", results[model_name][i])\n",
        "  model_1 = results[\"model_1\"][0][text_idx]\n",
        "  model_2 = results[\"model_2\"][0][text_idx]\n",
        "  model_3 = results[\"model_3\"][0][text_idx]\n",
        "  expected = results[\"expected\"][0][text_idx]\n",
        "  print(\"model_1 : \")\n",
        "  print(model_1)\n",
        "  print(\"model_2 : \")\n",
        "  print(model_2)\n",
        "  print(\"model_3 : \")\n",
        "  print(model_3)\n",
        "  print(\"expected : \")\n",
        "  print(expected)\n",
        "  model_1 = model_1.split()\n",
        "  model_2 = model_2.split()\n",
        "  model_3 = model_3.split()\n",
        "  expected = expected.split()\n",
        "  majority_words = []\n",
        "  max_len = max(len(model_1), len(model_2), len(model_3), len(expected))\n",
        "  for i in range(max_len):\n",
        "    words = []\n",
        "    if i < len(model_1):\n",
        "      words.append(model_1[i])\n",
        "    if i < len(model_2):\n",
        "      words.append(model_2[i])\n",
        "    if i < len(model_3):\n",
        "      words.append(model_3[i])\n",
        "    # print(\"word : \", words)\n",
        "    if words == []:\n",
        "      continue\n",
        "    majority_word = max(set(words), key = words.count)\n",
        "    # print(\"majority_word : \", majority_word, \"expected : \", expected[i] if i < len(expected) else \"\")\n",
        "    majority_words.append(majority_word)\n",
        "  majority_words = \" \".join(majority_words)\n",
        "  print(\"Majority vote : \")\n",
        "  print(majority_words)\n",
        "    # results[\"majority_vote\"].append(majority_word)\n",
        "\n"
      ]
    },
    {
      "cell_type": "code",
      "execution_count": 11,
      "id": "a1cebc61-20d8-4f6a-a8c3-394e724ddce8",
      "metadata": {
        "id": "a1cebc61-20d8-4f6a-a8c3-394e724ddce8"
      },
      "outputs": [
        {
          "name": "stdout",
          "output_type": "stream",
          "text": [
            "--------------------------------------------------------------------------------\n",
            "Source: saham ahold naik 12 sen atau 23 ​​persen menjadi 535 euro di amsterdam\n",
            "Target: shares of ahold rose 12 cents or 23 percent to 535 euros in amsterdam\n",
            "Predicted: shares of ahold rose 12 cents or 23 percent to euros in amsterdam\n",
            "--------------------------------------------------------------------------------\n",
            "Source: bahkan ketika pertukaran mendeteksi pelanggaran seperti itu itu sering gagal mengambil tindakan disiplin yang tepat terhadap individu atau perusahaan\n",
            "Target: even when the exchange detected such violations it often failed to take appropriate disciplinary actions against individuals or firms\n",
            "Predicted: even when the exchange detected such violations it often failed to take appropriate disciplinary actions against individuals or firms\n",
            "--------------------------------------------------------------------------------\n",
            "Source: tarif hipotek di seluruh negeri turun lagi minggu ini tingkat kesembilan tahun ini mencapai titik terendah sepanjang masa\n",
            "Target: mortgage rates around the country fell again this week the ninth time this year rates have hit an alltime low\n",
            "Predicted: mortgage rates off more than this week rate of the ninth level reach an alltime high levels\n",
            "--------------------------------------------------------------------------------\n",
            "Source: indeks standard poors 500 naik 175 poin atau 018 persen menjadi 97768\n",
            "Target: the standard poors 500 index was up 175 points or 018 percent to 97768\n",
            "Predicted: the standard poors 500 index was up 175 points or 018 percent to 97768\n",
            "--------------------------------------------------------------------------------\n",
            "Source: sersan ernest bucklew 33 pulang dari irak untuk mengubur ibunya di pennsylvania\n",
            "Target: sgt ernest bucklew 33 was coming home from iraq to bury his mother in pennsylvania\n",
            "Predicted: sgt ernest bucklew 33 was coming home from iraq to bury his mother in pennsylvania\n",
            "--------------------------------------------------------------------------------\n",
            "Source: prajurit amerika pertama kali dipilih sebagai times person of the year selama perang korea pada tahun 1950\n",
            "Target: the american soldier was first selected as times person of the year during the korean war in 1950\n",
            "Predicted: the american soldier was selected was selected in the of the year during the south korea which ship\n",
            "--------------------------------------------------------------------------------\n",
            "Source: duque tiba dengan foale dan kaleri tetapi akan kembali ke bumi dengan lu dan malenchenko\n",
            "Target: duque arrived with foale and kaleri but will return to earth with lu and malenchenko\n",
            "Predicted: duque arrived with foale and but will return to earth with lu and malenchenko\n",
            "--------------------------------------------------------------------------------\n",
            "Source: benchmark 10tahun catatan us10yt rr naik 1132 untuk hasil 325 persen\n",
            "Target: the benchmark 10year note us10ytrr rose 1132 for a yield of 325 percent\n",
            "Predicted: the benchmark 10year note us10ytrr rose 1132 for a yield of 325 percent\n",
            "--------------------------------------------------------------------------------\n",
            "Source: dia berencana untuk makan malam dengan pasukan di markas militer as kosovo camp bondsteel\n",
            "Target: he plans to have dinner with troops at kosovos us military headquarters camp bondsteel\n",
            "Predicted: he plans to have dinner with troops in the us military headquarters of camp bondsteel\n",
            "--------------------------------------------------------------------------------\n",
            "Source: dia telah tampil di luar kuba pada beberapa kesempatan termasuk pertunjukan di amerika serikat tahun lalu\n",
            "Target: he had performed outside of cuba on several occasions including shows in the united states last year\n",
            "Predicted: he had performed outside of cuba on several occasions including shows in the united states last year\n"
          ]
        }
      ],
      "source": [
        "run_validation(model, val_dataloader, tokenizer_src, tokenizer_tgt, config[\"model_1\"][\"seq_len\"], device, lambda msg: print(msg), 0, None, num_examples=10)"
      ]
    },
    {
      "cell_type": "code",
      "execution_count": null,
      "id": "fOvrDnAE7KmJ",
      "metadata": {
        "id": "fOvrDnAE7KmJ"
      },
      "outputs": [],
      "source": []
    },
    {
      "cell_type": "code",
      "execution_count": null,
      "id": "d4c3bd83-0b61-4ad6-80ac-c951eaf11f4a",
      "metadata": {
        "id": "d4c3bd83-0b61-4ad6-80ac-c951eaf11f4a"
      },
      "outputs": [],
      "source": []
    },
    {
      "cell_type": "code",
      "execution_count": null,
      "id": "a4a80512-0154-4da6-829b-efe37894774f",
      "metadata": {
        "id": "a4a80512-0154-4da6-829b-efe37894774f"
      },
      "outputs": [],
      "source": []
    },
    {
      "cell_type": "code",
      "execution_count": null,
      "id": "a9202de9-aeb6-410c-81e4-01a27190528f",
      "metadata": {
        "id": "a9202de9-aeb6-410c-81e4-01a27190528f"
      },
      "outputs": [],
      "source": []
    },
    {
      "cell_type": "code",
      "execution_count": null,
      "id": "aa517085-5c1d-436c-91a2-c3a66bb1119f",
      "metadata": {
        "id": "aa517085-5c1d-436c-91a2-c3a66bb1119f"
      },
      "outputs": [],
      "source": []
    },
    {
      "cell_type": "code",
      "execution_count": null,
      "id": "78687dd6-44f4-4583-b03d-dd630bb42c45",
      "metadata": {
        "id": "78687dd6-44f4-4583-b03d-dd630bb42c45"
      },
      "outputs": [],
      "source": []
    }
  ],
  "metadata": {
    "accelerator": "GPU",
    "colab": {
      "gpuType": "T4",
      "provenance": []
    },
    "kernelspec": {
      "display_name": "DeepLearning",
      "language": "python",
      "name": "python3"
    },
    "language_info": {
      "codemirror_mode": {
        "name": "ipython",
        "version": 3
      },
      "file_extension": ".py",
      "mimetype": "text/x-python",
      "name": "python",
      "nbconvert_exporter": "python",
      "pygments_lexer": "ipython3",
      "version": "3.13.3"
    }
  },
  "nbformat": 4,
  "nbformat_minor": 5
}
